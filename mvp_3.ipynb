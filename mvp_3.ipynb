{
 "cells": [
  {
   "cell_type": "code",
   "execution_count": 1,
   "metadata": {},
   "outputs": [],
   "source": [
    "import numpy as np\n",
    "import pandas as pd\n",
    "import matplotlib.pyplot as plt\n",
    "import seaborn as sns\n",
    "from ast import literal_eval\n",
    "import statistics\n",
    "import nltk\n",
    "import re\n",
    "from scipy import stats\n",
    "from venn import venn\n",
    "import matplotlib\n",
    "import squarify\n",
    "from wordcloud import WordCloud, ImageColorGenerator\n",
    "from wordcloud import STOPWORDS\n",
    "from nltk.corpus import stopwords  \n",
    "from gensim.parsing.preprocessing import STOPWORDS\n",
    "from sklearn import preprocessing\n",
    "#nltk.download('stopwords')\n",
    "from nltk.tokenize import word_tokenize  \n",
    "import gradio as gr\n",
    "%matplotlib inline"
   ]
  },
  {
   "cell_type": "code",
   "execution_count": 2,
   "metadata": {},
   "outputs": [],
   "source": [
    "recipes = pd.read_csv('data/large_data/recipes.csv')\n",
    "ingredient_freq = pd.read_csv('data/recipes/ingredient_freq.csv')\n",
    "interactions = pd.read_csv('data/large_data/RAW_interactions.csv')"
   ]
  },
  {
   "cell_type": "code",
   "execution_count": 7,
   "metadata": {},
   "outputs": [],
   "source": [
    "def calc_ingredient_ratings(ingredient_list, ingredient_freq= ingredient_freq):\n",
    "    #print(ingredient_list) \n",
    "    rating = 0\n",
    "    for ingredient in ingredient_list:\n",
    "        try:\n",
    "            freq = ingredient_freq.loc[ingredient]\n",
    "        except:\n",
    "            freq = 0\n",
    "        rating += freq\n",
    "    return rating"
   ]
  },
  {
   "cell_type": "code",
   "execution_count": 8,
   "metadata": {},
   "outputs": [],
   "source": [
    "def calc_overall_score(recipe_list, priority):\n",
    "    recipe_list['rating_score'] = recipe_list['avg_rating']*recipe_list['n_ratings']\n",
    "    #normalize minutes, ratings, ingredient_score, number of steps, number of ingredients\n",
    "    #x = recipe_list[['minutes','rating_score', 'ingredient_score','n_steps','n_ingredients']]\n",
    "    #min_max_scaler = preprocessing.MinMaxScaler()\n",
    "    #x_scaled = min_max_scaler.fit_transform(x)\n",
    "    #df = pd.DataFrame(x_scaled, columns = ['minutes','rating_score', 'ingredient_score','n_steps','n_ingredients'] )\n",
    "    #print(df.head())\n",
    "#     overall_score =  df['rating_score']*priority['C'] + \\\n",
    "#                 df['ingredient_score']*priority['D'] - df['n_steps']*priority['A'] - \\\n",
    "#                 df['n_ingredients']*priority['B'] - df['minutes']*priority['E']\n",
    "    overall_score = stats.zscore(recipe_list['minutes'])*priority['E'] + \\\n",
    "                recipe_list['rating_score']*priority['C'] + \\\n",
    "                recipe_list['ingredient_score']*100*priority['D'] + \\\n",
    "                stats.zscore(recipe_list['n_steps'])*priority['A'] + \\\n",
    "                stats.zscore(recipe_list['n_ingredients'])*priority['B'] \n",
    "    return overall_score"
   ]
  },
  {
   "cell_type": "code",
   "execution_count": 6,
   "metadata": {},
   "outputs": [],
   "source": [
    "def get_recipes(search_phrase, recipes, priority):\n",
    "    recipe_list = recipes.loc[recipes['name'].str.contains(search_phrase, case=False)].copy()\n",
    "    recipe_list['ingredient_score'] = recipe_list['mod_ingredients'].apply(calc_ingredient_ratings)\n",
    "    recipe_list['overall_score'] = calc_overall_score(recipe_list, priority)\n",
    "    return recipe_list"
   ]
  },
  {
   "cell_type": "code",
   "execution_count": 19,
   "metadata": {},
   "outputs": [],
   "source": [
    "def make_wordmap(recipe_list):\n",
    "    fig = plt.figure()\n",
    "    common_ingredients = recipe_list['mod_ingredients'].apply(literal_eval).explode().value_counts()\n",
    "    cmap = matplotlib.cm.Blues\n",
    "    norm = matplotlib.colors.Normalize(vmin=min(common_ingredients), vmax=max(common_ingredients))\n",
    "    colors = [cmap(norm(value)) for value in common_ingredients]\n",
    "    squarify.plot(sizes=common_ingredients[:10], label=common_ingredients.index[:10], alpha=.5, text_kwargs={\"wrap\": True})\n",
    "    plt.axis('off')\n",
    "    plt.close()\n",
    "    return fig"
   ]
  },
  {
   "cell_type": "code",
   "execution_count": 10,
   "metadata": {},
   "outputs": [],
   "source": [
    "def show_top_recipes(recipe_list):\n",
    "    html = 'https://www.food.com/recipe/'\n",
    "    top_5 = recipe_list.nlargest(5, 'overall_score').copy()\n",
    "    top_5['recipe_link'] = [f'https://www.food.com/recipe/{ing_id}' for ing_id in top_5['id']]\n",
    "    return top_5[['name','id','overall_score','recipe_link']]"
   ]
  },
  {
   "cell_type": "code",
   "execution_count": null,
   "metadata": {},
   "outputs": [],
   "source": [
    "# text = interactions[interactions['recipe_id'].isin(recipe_list.id)]['review'].apply(str.split).explode()\n",
    "# text = interactions[interactions['recipe_id'].isin(recipe_list.id)]['review'].apply(word_tokenize).explode()\n",
    "# text = [word.lower().translate(str.maketrans('', '', str.punctuation)) for word in text]\n",
    "# print(len(text))\n",
    "# text = [w.lower() for w in text if not w.lower() in stop_words]\n",
    "# print(text[0:10])\n",
    "# text = [word for word in text if re.sub(r'[^\\\\w\\\\s]','', word) == word]"
   ]
  },
  {
   "cell_type": "code",
   "execution_count": 18,
   "metadata": {},
   "outputs": [],
   "source": [
    "def make_wordcloud(recipe_list):\n",
    "    fig = plt.figure()\n",
    "    stop_words = stopwords.words('english')\n",
    "    stop_words.extend(['i','ive',\"i've\",'didnt','them', 'little','use','added','good','great', 'think', 'taste',\\\n",
    "                       'recipe', 'used','made','make','still','also','baked','bake','thank','thanks','cup'])\n",
    "    #stop_words = set(stop_words)\n",
    "    stop_words = STOPWORDS.union(set(stop_words))\n",
    "    review_list = interactions[interactions['recipe_id'].isin(recipe_list.id)]['review']\n",
    "    text = \" \".join(review for review in review_list)\n",
    "    wordcloud = WordCloud(stopwords=stop_words, background_color=\"white\").generate(text)\n",
    "    plt.imshow(wordcloud, interpolation='bilinear')\n",
    "    plt.axis(\"off\")\n",
    "    plt.close()\n",
    "    return fig"
   ]
  },
  {
   "cell_type": "code",
   "execution_count": null,
   "metadata": {},
   "outputs": [],
   "source": [
    "def get_priority():\n",
    "    priority_map = {\"A\": 1, \"B\": 1, \"C\": 1, \"D\": 1, \"E\": 1}\n",
    "    print(\"\"\"What is your priority for:\n",
    "            A) Number of Steps\n",
    "            B) Number of Ingredients\n",
    "            C) Ratings\n",
    "            D) Exoticness of Ingredients\n",
    "            E) Time to Prepare\n",
    "            \"\"\")\n",
    "    priority = [\"A\",\"B\",\"C\"]\n",
    "    priority[0] = input(\"What is your # 1 Priority?\")\n",
    "    priority[1] = input(\"What is your # 2 Priority?\")\n",
    "    priority[2] = input(\"What is your # 3 Priority?\")\n",
    "    \n",
    "    priority_map[priority[0]] = .4\n",
    "    priority_map[priority[1]] = .3\n",
    "    priority_map[priority[2]] = .2\n",
    "    non_priority = list(set(priority_map.keys()) - set(priority))\n",
    "    for key in non_priority:\n",
    "        priority_map[key] = .05\n",
    "    return priority_map    "
   ]
  },
  {
   "cell_type": "code",
   "execution_count": 20,
   "metadata": {},
   "outputs": [
    {
     "name": "stdout",
     "output_type": "stream",
     "text": [
      "Running locally at: http://127.0.0.1:7864/\n",
      "To create a public link, set `share=True` in `launch()`.\n",
      "Interface loading below...\n"
     ]
    },
    {
     "data": {
      "text/html": [
       "\n",
       "        <iframe\n",
       "            width=\"1000\"\n",
       "            height=\"500\"\n",
       "            src=\"http://127.0.0.1:7864/\"\n",
       "            frameborder=\"0\"\n",
       "            allowfullscreen\n",
       "        ></iframe>\n",
       "        "
      ],
      "text/plain": [
       "<IPython.lib.display.IFrame at 0x137b803fee0>"
      ]
     },
     "metadata": {},
     "output_type": "display_data"
    },
    {
     "data": {
      "text/plain": [
       "(<Flask 'gradio.networking'>, 'http://127.0.0.1:7864/', None)"
      ]
     },
     "execution_count": 20,
     "metadata": {},
     "output_type": "execute_result"
    }
   ],
   "source": [
    "def recipe_finder(recipe_name, priority_1, priority_2, priority_3):\n",
    "    priority =  {\"A\": 1, \"B\": 1, \"C\": 1, \"D\": 1, \"E\": 1}\n",
    "    recipe_list = get_recipes(recipe_name, recipes, priority)\n",
    "    \n",
    "    return make_wordcloud(recipe_list), make_wordmap(recipe_list), show_top_recipes(recipe_list)\n",
    "\n",
    "options = [\"Number of Steps\", \"Number of Ingredients\", \"Ratings\", \"Exoticness of Ingredients\", \"Time to Prepare\"]\n",
    "iface = gr.Interface(fn=recipe_finder, \\\n",
    "                     inputs = [\"text\", gr.inputs.Dropdown(options), gr.inputs.Dropdown(options), gr.inputs.Dropdown(options)],\\\n",
    "                               outputs=[gr.outputs.Image(plot=True, label=\"WordCloud\"),\\\n",
    "                                        gr.outputs.Image(plot=True, label=\"WordMap\"), \\\n",
    "                                        \"dataframe\"])\n",
    "iface.launch()"
   ]
  },
  {
   "cell_type": "code",
   "execution_count": null,
   "metadata": {},
   "outputs": [],
   "source": []
  }
 ],
 "metadata": {
  "kernelspec": {
   "display_name": "Python 3",
   "language": "python",
   "name": "python3"
  },
  "language_info": {
   "codemirror_mode": {
    "name": "ipython",
    "version": 3
   },
   "file_extension": ".py",
   "mimetype": "text/x-python",
   "name": "python",
   "nbconvert_exporter": "python",
   "pygments_lexer": "ipython3",
   "version": "3.8.3"
  }
 },
 "nbformat": 4,
 "nbformat_minor": 4
}
