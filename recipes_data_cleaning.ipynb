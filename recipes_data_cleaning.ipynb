{
 "cells": [
  {
   "cell_type": "code",
   "execution_count": 21,
   "metadata": {},
   "outputs": [],
   "source": [
    "import numpy as np\n",
    "import pandas as pd\n",
    "import matplotlib.pyplot as plt\n",
    "import seaborn as sns\n",
    "from ast import literal_eval\n",
    "import statistics\n",
    "import nltk\n",
    "import re"
   ]
  },
  {
   "cell_type": "code",
   "execution_count": 124,
   "metadata": {},
   "outputs": [],
   "source": [
    "from nltk.stem.snowball import SnowballStemmer\n",
    "from nltk.stem.regexp import RegexpStemmer\n",
    "#nltk.download('punkt')\n",
    "#nltk.download('averaged_perceptron_tagger')"
   ]
  },
  {
   "cell_type": "code",
   "execution_count": 15,
   "metadata": {},
   "outputs": [],
   "source": [
    "pd.set_option('max_colwidth', 400)"
   ]
  },
  {
   "cell_type": "code",
   "execution_count": 86,
   "metadata": {},
   "outputs": [],
   "source": [
    "def and_split(ingredient_list):\n",
    "    \"\"\"\n",
    "    Inputs: List of ingredients (with possible \"and\" or \"&\")\n",
    "    Output: List with ingredient list updated to remove \"and\" or \"&\" and list as separate items\n",
    "    \n",
    "    example: and_split(['turkey','green pepper','salt & freshly ground black pepper'])\n",
    "            ['turkey', 'green pepper', 'salt', 'freshly ground black pepper']\n",
    "    \"\"\"\n",
    "    return list(np.concatenate([re.split(' and | & ', ingredient) \\\n",
    "                                for ingredient in ingredient_list]).flat)"
   ]
  },
  {
   "cell_type": "code",
   "execution_count": 122,
   "metadata": {},
   "outputs": [],
   "source": [
    "def make_singular(ingredient_list):\n",
    "    \"\"\"\n",
    "    Inputs: List of ingredients \n",
    "    Output: List with ingredient list updated to make everything singular\n",
    "    \n",
    "    example:make_singular([\"carrots\", \"eggs\",\"milk\"])\n",
    "            returns ['carrot', 'egg', 'milk']\n",
    "    \"\"\"\n",
    "    #stemmer = SnowballStemmer(\"english\")\n",
    "    stemmer = RegexpStemmer('s$|ies$') \n",
    "    return [stemmer.stem(word) for word in ingredient_list]"
   ]
  },
  {
   "cell_type": "code",
   "execution_count": 128,
   "metadata": {},
   "outputs": [],
   "source": [
    "def remove_adj(ingredient_list):\n",
    "    \"\"\"\n",
    "    Inputs: List of ingredients \n",
    "    Output: List with ingredient list updated to remove extra adjectives:\n",
    "            ['fresh', 'ground', 'dried', 'all-purpose']\n",
    "    example:remove_adj(['fresh ground pepper', 'fresh parsley', 'dried parsley','all-purpose flour'])\n",
    "            returns ['pepper', 'parsley', 'parsley', 'flour']    \n",
    "    \"\"\"\n",
    "    \n",
    "    adj_list =  \"|\".join(['fresh', 'ground', 'dried', 'all-purpose', 'clove', 'unsalted','salted', 'extra virgin'])\n",
    "    return [re.sub(adj_list,'', ingredient).strip() for ingredient in ingredient_list]"
   ]
  },
  {
   "cell_type": "code",
   "execution_count": 2,
   "metadata": {},
   "outputs": [],
   "source": [
    "recipes = pd.read_csv('data/large_data/RAW_recipes.csv')"
   ]
  },
  {
   "cell_type": "code",
   "execution_count": 3,
   "metadata": {},
   "outputs": [],
   "source": [
    "recipes['tags'] = recipes['tags'].apply(literal_eval)"
   ]
  },
  {
   "cell_type": "code",
   "execution_count": 4,
   "metadata": {},
   "outputs": [],
   "source": [
    "tag_dist = recipes['tags'].explode().value_counts()\n",
    "tag_list = recipes['tags'].explode().unique()"
   ]
  },
  {
   "cell_type": "code",
   "execution_count": 133,
   "metadata": {},
   "outputs": [],
   "source": [
    "recipes['mod_ingredients'] = recipes['ingredients'].apply(literal_eval).apply(and_split).apply(make_singular).apply(remove_adj)\n",
    "full_ingredient_list = recipes['mod_ingredients'].explode().value_counts(normalize = True)"
   ]
  },
  {
   "cell_type": "code",
   "execution_count": 135,
   "metadata": {},
   "outputs": [
    {
     "data": {
      "text/plain": [
       "0.9999999999999017"
      ]
     },
     "execution_count": 135,
     "metadata": {},
     "output_type": "execute_result"
    }
   ],
   "source": [
    "sum(full_ingredient_list)"
   ]
  },
  {
   "cell_type": "code",
   "execution_count": 134,
   "metadata": {},
   "outputs": [
    {
     "data": {
      "text/plain": [
       "salt                    0.050778\n",
       "butter                  0.030281\n",
       "garlic                  0.026058\n",
       "egg                     0.024052\n",
       "onion                   0.023234\n",
       "pepper                  0.021067\n",
       "sugar                   0.020976\n",
       "flour                   0.020689\n",
       "olive oil               0.019097\n",
       "water                   0.016451\n",
       "milk                    0.012145\n",
       "black pepper            0.011902\n",
       "lemon juice             0.009205\n",
       "cinnamon                0.009149\n",
       "brown sugar             0.008787\n",
       "baking powder           0.008245\n",
       "parsley                 0.007503\n",
       "parmesan cheese         0.007169\n",
       "baking soda             0.006641\n",
       "carrot                  0.006584\n",
       "vegetable oil           0.006553\n",
       "vanilla                 0.006271\n",
       "tomatoe                 0.005985\n",
       "sour cream              0.005556\n",
       "ginger                  0.005449\n",
       "green onion             0.005369\n",
       "garlic powder           0.005129\n",
       "cumin                   0.004899\n",
       "vanilla extract         0.004838\n",
       "oregano                 0.004804\n",
       "oil                     0.004678\n",
       "honey                   0.004662\n",
       "cream cheese            0.004629\n",
       "celery                  0.004551\n",
       "basil                   0.004543\n",
       "nutmeg                  0.004386\n",
       "cheddar cheese          0.004224\n",
       "thyme                   0.004197\n",
       "soy sauce               0.004171\n",
       "mayonnaise              0.004115\n",
       "cilantro                0.003903\n",
       "paprika                 0.003802\n",
       "chicken broth           0.003751\n",
       "worcestershire sauce    0.003689\n",
       "cornstarch              0.003526\n",
       "chili powder            0.003290\n",
       "bacon                   0.003273\n",
       "mushroom                0.003244\n",
       "red onion               0.003237\n",
       "cayenne pepper          0.003164\n",
       "Name: mod_ingredients, dtype: float64"
      ]
     },
     "execution_count": 134,
     "metadata": {},
     "output_type": "execute_result"
    }
   ],
   "source": [
    "full_ingredient_list[:50]"
   ]
  },
  {
   "cell_type": "code",
   "execution_count": 83,
   "metadata": {},
   "outputs": [
    {
     "data": {
      "text/plain": [
       "[('fresh', 'JJ'), ('ground', 'NN'), ('black', 'JJ'), ('pepper', 'NN')]"
      ]
     },
     "execution_count": 83,
     "metadata": {},
     "output_type": "execute_result"
    }
   ],
   "source": [
    "text = nltk.word_tokenize(\"fresh ground black pepper\")\n",
    "nltk.pos_tag(text)"
   ]
  },
  {
   "cell_type": "code",
   "execution_count": 5,
   "metadata": {},
   "outputs": [],
   "source": [
    "recipes[\"veg\"] = [(\"vegan\" in tag_list) or (\"vegetarian\" in tag_list) for tag_list in recipes[\"tags\"]]"
   ]
  },
  {
   "cell_type": "code",
   "execution_count": 36,
   "metadata": {},
   "outputs": [],
   "source": [
    "veg_recipes = recipes[recipes[\"veg\"]].copy()"
   ]
  },
  {
   "cell_type": "code",
   "execution_count": 7,
   "metadata": {},
   "outputs": [],
   "source": [
    "interactions = pd.read_csv('data/large_data/RAW_interactions.csv')"
   ]
  },
  {
   "cell_type": "code",
   "execution_count": 37,
   "metadata": {},
   "outputs": [],
   "source": [
    "veg_recipes['ratings'] = [list(interactions[interactions['recipe_id'] == rec_id]['rating'])  for rec_id in veg_recipes['id'] ]"
   ]
  },
  {
   "cell_type": "code",
   "execution_count": 38,
   "metadata": {},
   "outputs": [],
   "source": [
    "veg_recipes['avg_rating'] = veg_recipes['ratings'].map(statistics.mean)"
   ]
  },
  {
   "cell_type": "code",
   "execution_count": 39,
   "metadata": {},
   "outputs": [],
   "source": [
    "veg_recipes['n_ratings'] = veg_recipes['ratings'].map(len)"
   ]
  },
  {
   "cell_type": "code",
   "execution_count": 40,
   "metadata": {},
   "outputs": [
    {
     "data": {
      "text/html": [
       "<div>\n",
       "<style scoped>\n",
       "    .dataframe tbody tr th:only-of-type {\n",
       "        vertical-align: middle;\n",
       "    }\n",
       "\n",
       "    .dataframe tbody tr th {\n",
       "        vertical-align: top;\n",
       "    }\n",
       "\n",
       "    .dataframe thead th {\n",
       "        text-align: right;\n",
       "    }\n",
       "</style>\n",
       "<table border=\"1\" class=\"dataframe\">\n",
       "  <thead>\n",
       "    <tr style=\"text-align: right;\">\n",
       "      <th></th>\n",
       "      <th>id</th>\n",
       "      <th>minutes</th>\n",
       "      <th>contributor_id</th>\n",
       "      <th>n_steps</th>\n",
       "      <th>n_ingredients</th>\n",
       "      <th>avg_rating</th>\n",
       "      <th>n_ratings</th>\n",
       "    </tr>\n",
       "  </thead>\n",
       "  <tbody>\n",
       "    <tr>\n",
       "      <th>count</th>\n",
       "      <td>3128.000000</td>\n",
       "      <td>3128.000000</td>\n",
       "      <td>3.128000e+03</td>\n",
       "      <td>3128.000000</td>\n",
       "      <td>3128.000000</td>\n",
       "      <td>3128.000000</td>\n",
       "      <td>3128.000000</td>\n",
       "    </tr>\n",
       "    <tr>\n",
       "      <th>mean</th>\n",
       "      <td>142169.992967</td>\n",
       "      <td>79.190217</td>\n",
       "      <td>1.624612e+05</td>\n",
       "      <td>8.831841</td>\n",
       "      <td>8.501918</td>\n",
       "      <td>4.460244</td>\n",
       "      <td>28.839834</td>\n",
       "    </tr>\n",
       "    <tr>\n",
       "      <th>std</th>\n",
       "      <td>110971.657708</td>\n",
       "      <td>500.792949</td>\n",
       "      <td>2.163368e+05</td>\n",
       "      <td>5.544758</td>\n",
       "      <td>3.650987</td>\n",
       "      <td>0.411377</td>\n",
       "      <td>43.603142</td>\n",
       "    </tr>\n",
       "    <tr>\n",
       "      <th>min</th>\n",
       "      <td>62.000000</td>\n",
       "      <td>0.000000</td>\n",
       "      <td>2.700000e+01</td>\n",
       "      <td>1.000000</td>\n",
       "      <td>2.000000</td>\n",
       "      <td>1.764706</td>\n",
       "      <td>11.000000</td>\n",
       "    </tr>\n",
       "    <tr>\n",
       "      <th>25%</th>\n",
       "      <td>50842.750000</td>\n",
       "      <td>17.000000</td>\n",
       "      <td>3.744900e+04</td>\n",
       "      <td>5.000000</td>\n",
       "      <td>6.000000</td>\n",
       "      <td>4.266667</td>\n",
       "      <td>13.000000</td>\n",
       "    </tr>\n",
       "    <tr>\n",
       "      <th>50%</th>\n",
       "      <td>117433.500000</td>\n",
       "      <td>31.000000</td>\n",
       "      <td>7.132400e+04</td>\n",
       "      <td>8.000000</td>\n",
       "      <td>8.000000</td>\n",
       "      <td>4.538462</td>\n",
       "      <td>17.000000</td>\n",
       "    </tr>\n",
       "    <tr>\n",
       "      <th>75%</th>\n",
       "      <td>204854.750000</td>\n",
       "      <td>58.500000</td>\n",
       "      <td>2.097470e+05</td>\n",
       "      <td>11.000000</td>\n",
       "      <td>11.000000</td>\n",
       "      <td>4.750000</td>\n",
       "      <td>28.000000</td>\n",
       "    </tr>\n",
       "    <tr>\n",
       "      <th>max</th>\n",
       "      <td>512584.000000</td>\n",
       "      <td>20190.000000</td>\n",
       "      <td>2.222923e+06</td>\n",
       "      <td>82.000000</td>\n",
       "      <td>25.000000</td>\n",
       "      <td>5.000000</td>\n",
       "      <td>1220.000000</td>\n",
       "    </tr>\n",
       "  </tbody>\n",
       "</table>\n",
       "</div>"
      ],
      "text/plain": [
       "                  id       minutes  contributor_id      n_steps  \\\n",
       "count    3128.000000   3128.000000    3.128000e+03  3128.000000   \n",
       "mean   142169.992967     79.190217    1.624612e+05     8.831841   \n",
       "std    110971.657708    500.792949    2.163368e+05     5.544758   \n",
       "min        62.000000      0.000000    2.700000e+01     1.000000   \n",
       "25%     50842.750000     17.000000    3.744900e+04     5.000000   \n",
       "50%    117433.500000     31.000000    7.132400e+04     8.000000   \n",
       "75%    204854.750000     58.500000    2.097470e+05    11.000000   \n",
       "max    512584.000000  20190.000000    2.222923e+06    82.000000   \n",
       "\n",
       "       n_ingredients   avg_rating    n_ratings  \n",
       "count    3128.000000  3128.000000  3128.000000  \n",
       "mean        8.501918     4.460244    28.839834  \n",
       "std         3.650987     0.411377    43.603142  \n",
       "min         2.000000     1.764706    11.000000  \n",
       "25%         6.000000     4.266667    13.000000  \n",
       "50%         8.000000     4.538462    17.000000  \n",
       "75%        11.000000     4.750000    28.000000  \n",
       "max        25.000000     5.000000  1220.000000  "
      ]
     },
     "execution_count": 40,
     "metadata": {},
     "output_type": "execute_result"
    }
   ],
   "source": [
    "veg_recipes[veg_recipes['n_ratings'] > 10].describe()"
   ]
  },
  {
   "cell_type": "code",
   "execution_count": 58,
   "metadata": {},
   "outputs": [],
   "source": [
    "veg_recipes['mod_ingredients'] = veg_recipes['ingredients'].apply(literal_eval).apply(and_split)"
   ]
  },
  {
   "cell_type": "code",
   "execution_count": 59,
   "metadata": {},
   "outputs": [
    {
     "data": {
      "text/html": [
       "<div>\n",
       "<style scoped>\n",
       "    .dataframe tbody tr th:only-of-type {\n",
       "        vertical-align: middle;\n",
       "    }\n",
       "\n",
       "    .dataframe tbody tr th {\n",
       "        vertical-align: top;\n",
       "    }\n",
       "\n",
       "    .dataframe thead th {\n",
       "        text-align: right;\n",
       "    }\n",
       "</style>\n",
       "<table border=\"1\" class=\"dataframe\">\n",
       "  <thead>\n",
       "    <tr style=\"text-align: right;\">\n",
       "      <th></th>\n",
       "      <th>mod_ingredients</th>\n",
       "    </tr>\n",
       "  </thead>\n",
       "  <tbody>\n",
       "    <tr>\n",
       "      <th>0</th>\n",
       "      <td>[winter squash, mexican seasoning, mixed spice, honey, butter, olive oil, salt]</td>\n",
       "    </tr>\n",
       "    <tr>\n",
       "      <th>4</th>\n",
       "      <td>[tomato juice, apple cider vinegar, sugar, salt, pepper, clove oil, cinnamon oil, dry mustard]</td>\n",
       "    </tr>\n",
       "    <tr>\n",
       "      <th>6</th>\n",
       "      <td>[fennel seeds, green olives, ripe olives, garlic, peppercorn, orange rind, orange juice, red chile, extra virgin olive oil]</td>\n",
       "    </tr>\n",
       "    <tr>\n",
       "      <th>16</th>\n",
       "      <td>[egg roll wrap, whole green chilies, cheese, cornstarch, oil]</td>\n",
       "    </tr>\n",
       "    <tr>\n",
       "      <th>19</th>\n",
       "      <td>[canola oil, onion, garlic, cauliflower, potatoes, vegetable bouillon cubes, water, salt free herb, spice seasoning mix, ground coriander, great northern bean, salt, pepper, broccoli floret, escarole, green peas, red bell pepper, fresh herb]</td>\n",
       "    </tr>\n",
       "    <tr>\n",
       "      <th>...</th>\n",
       "      <td>...</td>\n",
       "    </tr>\n",
       "    <tr>\n",
       "      <th>231610</th>\n",
       "      <td>[white bread flour, instant yeast, sugar, salt, water]</td>\n",
       "    </tr>\n",
       "    <tr>\n",
       "      <th>231613</th>\n",
       "      <td>[sorrel, butter, sugar, raisins]</td>\n",
       "    </tr>\n",
       "    <tr>\n",
       "      <th>231620</th>\n",
       "      <td>[milk, butter, dry yeast, water, salt, sugar, flour]</td>\n",
       "    </tr>\n",
       "    <tr>\n",
       "      <th>231625</th>\n",
       "      <td>[butter, onions, flour, salt, vinegar]</td>\n",
       "    </tr>\n",
       "    <tr>\n",
       "      <th>231633</th>\n",
       "      <td>[paprika, salt, garlic powder, onion powder, dried basil, dried oregano, dried tarragon, dried thyme, powdered sugar, black pepper, cayenne pepper, red pepper flakes, celery seed]</td>\n",
       "    </tr>\n",
       "  </tbody>\n",
       "</table>\n",
       "<p>35651 rows × 1 columns</p>\n",
       "</div>"
      ],
      "text/plain": [
       "                                                                                                                                                                                                                                          mod_ingredients\n",
       "0                                                                                                                                                                         [winter squash, mexican seasoning, mixed spice, honey, butter, olive oil, salt]\n",
       "4                                                                                                                                                          [tomato juice, apple cider vinegar, sugar, salt, pepper, clove oil, cinnamon oil, dry mustard]\n",
       "6                                                                                                                             [fennel seeds, green olives, ripe olives, garlic, peppercorn, orange rind, orange juice, red chile, extra virgin olive oil]\n",
       "16                                                                                                                                                                                          [egg roll wrap, whole green chilies, cheese, cornstarch, oil]\n",
       "19      [canola oil, onion, garlic, cauliflower, potatoes, vegetable bouillon cubes, water, salt free herb, spice seasoning mix, ground coriander, great northern bean, salt, pepper, broccoli floret, escarole, green peas, red bell pepper, fresh herb]\n",
       "...                                                                                                                                                                                                                                                   ...\n",
       "231610                                                                                                                                                                                             [white bread flour, instant yeast, sugar, salt, water]\n",
       "231613                                                                                                                                                                                                                   [sorrel, butter, sugar, raisins]\n",
       "231620                                                                                                                                                                                               [milk, butter, dry yeast, water, salt, sugar, flour]\n",
       "231625                                                                                                                                                                                                             [butter, onions, flour, salt, vinegar]\n",
       "231633                                                                [paprika, salt, garlic powder, onion powder, dried basil, dried oregano, dried tarragon, dried thyme, powdered sugar, black pepper, cayenne pepper, red pepper flakes, celery seed]\n",
       "\n",
       "[35651 rows x 1 columns]"
      ]
     },
     "execution_count": 59,
     "metadata": {},
     "output_type": "execute_result"
    }
   ],
   "source": [
    "veg_recipes[['mod_ingredients']]\n",
    "#veg_recipes[['ingredients']]"
   ]
  },
  {
   "cell_type": "code",
   "execution_count": 60,
   "metadata": {},
   "outputs": [],
   "source": [
    "search_phrase = \"butternut squash soup\"\n",
    "search_words = search_phrase.split(\" \")\n",
    "search_words = \"|\".join(\"^{}$\".format(word) for word in search_words)"
   ]
  },
  {
   "cell_type": "code",
   "execution_count": 61,
   "metadata": {},
   "outputs": [],
   "source": [
    "recipe_list = veg_recipes.loc[veg_recipes['name'].str.contains(search_phrase, case=False)]"
   ]
  },
  {
   "cell_type": "code",
   "execution_count": 62,
   "metadata": {},
   "outputs": [
    {
     "data": {
      "text/html": [
       "<div>\n",
       "<style scoped>\n",
       "    .dataframe tbody tr th:only-of-type {\n",
       "        vertical-align: middle;\n",
       "    }\n",
       "\n",
       "    .dataframe tbody tr th {\n",
       "        vertical-align: top;\n",
       "    }\n",
       "\n",
       "    .dataframe thead th {\n",
       "        text-align: right;\n",
       "    }\n",
       "</style>\n",
       "<table border=\"1\" class=\"dataframe\">\n",
       "  <thead>\n",
       "    <tr style=\"text-align: right;\">\n",
       "      <th></th>\n",
       "      <th>id</th>\n",
       "      <th>minutes</th>\n",
       "      <th>contributor_id</th>\n",
       "      <th>n_steps</th>\n",
       "      <th>n_ingredients</th>\n",
       "      <th>avg_rating</th>\n",
       "      <th>n_ratings</th>\n",
       "    </tr>\n",
       "  </thead>\n",
       "  <tbody>\n",
       "    <tr>\n",
       "      <th>count</th>\n",
       "      <td>23.000000</td>\n",
       "      <td>23.000000</td>\n",
       "      <td>2.300000e+01</td>\n",
       "      <td>23.000000</td>\n",
       "      <td>23.000000</td>\n",
       "      <td>23.000000</td>\n",
       "      <td>23.000000</td>\n",
       "    </tr>\n",
       "    <tr>\n",
       "      <th>mean</th>\n",
       "      <td>238846.217391</td>\n",
       "      <td>62.913043</td>\n",
       "      <td>4.463659e+05</td>\n",
       "      <td>12.260870</td>\n",
       "      <td>11.217391</td>\n",
       "      <td>4.304743</td>\n",
       "      <td>4.260870</td>\n",
       "    </tr>\n",
       "    <tr>\n",
       "      <th>std</th>\n",
       "      <td>142403.200255</td>\n",
       "      <td>38.257397</td>\n",
       "      <td>5.458591e+05</td>\n",
       "      <td>6.091853</td>\n",
       "      <td>3.789417</td>\n",
       "      <td>0.821696</td>\n",
       "      <td>6.565872</td>\n",
       "    </tr>\n",
       "    <tr>\n",
       "      <th>min</th>\n",
       "      <td>11636.000000</td>\n",
       "      <td>9.000000</td>\n",
       "      <td>3.288000e+03</td>\n",
       "      <td>5.000000</td>\n",
       "      <td>6.000000</td>\n",
       "      <td>2.333333</td>\n",
       "      <td>1.000000</td>\n",
       "    </tr>\n",
       "    <tr>\n",
       "      <th>25%</th>\n",
       "      <td>157662.000000</td>\n",
       "      <td>35.000000</td>\n",
       "      <td>8.702850e+04</td>\n",
       "      <td>7.500000</td>\n",
       "      <td>7.500000</td>\n",
       "      <td>4.000000</td>\n",
       "      <td>1.000000</td>\n",
       "    </tr>\n",
       "    <tr>\n",
       "      <th>50%</th>\n",
       "      <td>226765.000000</td>\n",
       "      <td>48.000000</td>\n",
       "      <td>2.398970e+05</td>\n",
       "      <td>12.000000</td>\n",
       "      <td>11.000000</td>\n",
       "      <td>4.714286</td>\n",
       "      <td>2.000000</td>\n",
       "    </tr>\n",
       "    <tr>\n",
       "      <th>75%</th>\n",
       "      <td>313188.500000</td>\n",
       "      <td>90.000000</td>\n",
       "      <td>5.575435e+05</td>\n",
       "      <td>15.000000</td>\n",
       "      <td>13.500000</td>\n",
       "      <td>5.000000</td>\n",
       "      <td>4.000000</td>\n",
       "    </tr>\n",
       "    <tr>\n",
       "      <th>max</th>\n",
       "      <td>490345.000000</td>\n",
       "      <td>170.000000</td>\n",
       "      <td>2.462143e+06</td>\n",
       "      <td>27.000000</td>\n",
       "      <td>21.000000</td>\n",
       "      <td>5.000000</td>\n",
       "      <td>31.000000</td>\n",
       "    </tr>\n",
       "  </tbody>\n",
       "</table>\n",
       "</div>"
      ],
      "text/plain": [
       "                  id     minutes  contributor_id    n_steps  n_ingredients  \\\n",
       "count      23.000000   23.000000    2.300000e+01  23.000000      23.000000   \n",
       "mean   238846.217391   62.913043    4.463659e+05  12.260870      11.217391   \n",
       "std    142403.200255   38.257397    5.458591e+05   6.091853       3.789417   \n",
       "min     11636.000000    9.000000    3.288000e+03   5.000000       6.000000   \n",
       "25%    157662.000000   35.000000    8.702850e+04   7.500000       7.500000   \n",
       "50%    226765.000000   48.000000    2.398970e+05  12.000000      11.000000   \n",
       "75%    313188.500000   90.000000    5.575435e+05  15.000000      13.500000   \n",
       "max    490345.000000  170.000000    2.462143e+06  27.000000      21.000000   \n",
       "\n",
       "       avg_rating  n_ratings  \n",
       "count   23.000000  23.000000  \n",
       "mean     4.304743   4.260870  \n",
       "std      0.821696   6.565872  \n",
       "min      2.333333   1.000000  \n",
       "25%      4.000000   1.000000  \n",
       "50%      4.714286   2.000000  \n",
       "75%      5.000000   4.000000  \n",
       "max      5.000000  31.000000  "
      ]
     },
     "execution_count": 62,
     "metadata": {},
     "output_type": "execute_result"
    }
   ],
   "source": [
    "recipe_list.describe()"
   ]
  },
  {
   "cell_type": "code",
   "execution_count": 67,
   "metadata": {},
   "outputs": [],
   "source": [
    "common_ingredients = recipe_list['mod_ingredients'].explode().value_counts()"
   ]
  },
  {
   "cell_type": "code",
   "execution_count": 69,
   "metadata": {},
   "outputs": [
    {
     "data": {
      "text/plain": [
       "butternut squash    21\n",
       "salt                14\n",
       "vegetable stock      9\n",
       "olive oil            9\n",
       "garlic cloves        8\n",
       "onion                7\n",
       "water                7\n",
       "pepper               7\n",
       "butter               7\n",
       "celery               5\n",
       "carrots              5\n",
       "coconut milk         5\n",
       "curry powder         4\n",
       "vegetable broth      4\n",
       "nutmeg               4\n",
       "ground coriander     3\n",
       "onions               3\n",
       "garlic               3\n",
       "ground cumin         3\n",
       "black beans          2\n",
       "Name: mod_ingredients, dtype: int64"
      ]
     },
     "execution_count": 69,
     "metadata": {},
     "output_type": "execute_result"
    }
   ],
   "source": [
    "common_ingredients[:20]"
   ]
  },
  {
   "cell_type": "code",
   "execution_count": 70,
   "metadata": {},
   "outputs": [
    {
     "data": {
      "text/plain": [
       "pepper                         7\n",
       "red bell pepper                2\n",
       "black pepper                   2\n",
       "freshly ground black pepper    1\n",
       "ground pepper                  1\n",
       "ground red pepper              1\n",
       "red pepper flakes              1\n",
       "white pepper                   1\n",
       "yellow bell pepper             1\n",
       "scotch bonnet pepper           1\n",
       "dry crushed red pepper         1\n",
       "chili pepper                   1\n",
       "cayenne pepper                 1\n",
       "Name: mod_ingredients, dtype: int64"
      ]
     },
     "execution_count": 70,
     "metadata": {},
     "output_type": "execute_result"
    }
   ],
   "source": [
    "common_ingredients.filter(like = \"pepper\", axis = 0)"
   ]
  },
  {
   "cell_type": "code",
   "execution_count": 33,
   "metadata": {},
   "outputs": [
    {
     "data": {
      "text/plain": [
       "0                                                                                                                                                                                             [['winter squash', 'mexican seasoning', 'mixed spice', 'honey', 'butter', 'olive oil', 'salt']]\n",
       "4                                                                                                                                                                            [['tomato juice', 'apple cider vinegar', 'sugar', 'salt', 'pepper', 'clove oil', 'cinnamon oil', 'dry mustard']]\n",
       "6                                                                                                                                             [['fennel seeds', 'green olives', 'ripe olives', 'garlic', 'peppercorn', 'orange rind', 'orange juice', 'red chile', 'extra virgin olive oil']]\n",
       "16                                                                                                                                                                                                                  [['egg roll wrap', 'whole green chilies', 'cheese', 'cornstarch', 'oil']]\n",
       "19        [['canola oil', 'onion', 'garlic', 'cauliflower', 'potatoes', 'vegetable bouillon cubes', 'water', 'salt free herb, spice seasoning mix', 'ground coriander', 'great northern bean', 'salt, pepper', 'broccoli floret', 'escarole', 'green peas', 'red bell pepper', 'fresh herb']]\n",
       "                                                                                                                                                 ...                                                                                                                                         \n",
       "231610                                                                                                                                                                                                                     [['white bread flour', 'instant yeast', 'sugar', 'salt', 'water']]\n",
       "231613                                                                                                                                                                                                                                             [['sorrel', 'butter', 'sugar', 'raisins']]\n",
       "231620                                                                                                                                                                                                                   [['milk', 'butter', 'dry yeast', 'water', 'salt', 'sugar', 'flour']]\n",
       "231625                                                                                                                                                                                                                                     [['butter', 'onions', 'flour', 'salt', 'vinegar']]\n",
       "231633                                                                        [['paprika', 'salt', 'garlic powder', 'onion powder', 'dried basil', 'dried oregano', 'dried tarragon', 'dried thyme', 'powdered sugar', 'black pepper', 'cayenne pepper', 'red pepper flakes', 'celery seed']]\n",
       "Name: ingredients, Length: 35651, dtype: object"
      ]
     },
     "execution_count": 33,
     "metadata": {},
     "output_type": "execute_result"
    }
   ],
   "source": [
    "veg_recipes['ingredients']"
   ]
  },
  {
   "cell_type": "code",
   "execution_count": null,
   "metadata": {},
   "outputs": [],
   "source": []
  }
 ],
 "metadata": {
  "kernelspec": {
   "display_name": "Python 3",
   "language": "python",
   "name": "python3"
  },
  "language_info": {
   "codemirror_mode": {
    "name": "ipython",
    "version": 3
   },
   "file_extension": ".py",
   "mimetype": "text/x-python",
   "name": "python",
   "nbconvert_exporter": "python",
   "pygments_lexer": "ipython3",
   "version": "3.8.3"
  }
 },
 "nbformat": 4,
 "nbformat_minor": 4
}
