{
 "cells": [
  {
   "cell_type": "code",
   "execution_count": 3,
   "metadata": {},
   "outputs": [],
   "source": [
    "import numpy as np\n",
    "import pandas as pd\n",
    "import matplotlib.pyplot as plt\n",
    "import seaborn as sns\n",
    "from ast import literal_eval\n",
    "import statistics\n",
    "import nltk\n",
    "import re\n",
    "from scipy import stats\n",
    "from venn import venn\n",
    "\n",
    "import matplotlib.pyplot as plt\n",
    "import squarify    \n",
    "%matplotlib inline\n"
   ]
  },
  {
   "cell_type": "code",
   "execution_count": 4,
   "metadata": {},
   "outputs": [],
   "source": [
    "from nltk.stem.snowball import SnowballStemmer\n",
    "from nltk.stem.regexp import RegexpStemmer\n",
    "#nltk.download('punkt')\n",
    "#nltk.download('averaged_perceptron_tagger')"
   ]
  },
  {
   "cell_type": "code",
   "execution_count": 5,
   "metadata": {},
   "outputs": [],
   "source": [
    "pd.set_option('max_colwidth', 400)"
   ]
  },
  {
   "cell_type": "code",
   "execution_count": 6,
   "metadata": {},
   "outputs": [],
   "source": [
    "def and_split(ingredient_list):\n",
    "    \"\"\"\n",
    "    Inputs: List of ingredients (with possible \"and\" or \"&\")\n",
    "    Output: List with ingredient list updated to remove \"and\" or \"&\" and list as separate items\n",
    "    \n",
    "    example: and_split(['turkey','green pepper','salt & freshly ground black pepper'])\n",
    "            ['turkey', 'green pepper', 'salt', 'freshly ground black pepper']\n",
    "    \"\"\"\n",
    "    return list(np.concatenate([re.split(' and | & ', ingredient) \\\n",
    "                                for ingredient in ingredient_list]).flat)"
   ]
  },
  {
   "cell_type": "code",
   "execution_count": 7,
   "metadata": {},
   "outputs": [],
   "source": [
    "def make_singular(ingredient_list):\n",
    "    \"\"\"\n",
    "    Inputs: List of ingredients \n",
    "    Output: List with ingredient list updated to make everything singular\n",
    "    \n",
    "    example:make_singular([\"carrots\", \"eggs\",\"milk\"])\n",
    "            returns ['carrot', 'egg', 'milk']\n",
    "    \"\"\"\n",
    "    #edge case for couscous needs to be checked\n",
    "    #stemmer = SnowballStemmer(\"english\")\n",
    "    stemmer = RegexpStemmer('s$|ies$') \n",
    "    return [stemmer.stem(word) for word in ingredient_list]"
   ]
  },
  {
   "cell_type": "code",
   "execution_count": 8,
   "metadata": {},
   "outputs": [],
   "source": [
    "def remove_adj(ingredient_list):\n",
    "    \"\"\"\n",
    "    Inputs: List of ingredients \n",
    "    Output: List with ingredient list updated to remove extra adjectives:\n",
    "            ['fresh', 'ground', 'dried', 'all-purpose']\n",
    "    example:remove_adj(['fresh ground pepper', 'fresh parsley', 'dried parsley','all-purpose flour'])\n",
    "            returns ['pepper', 'parsley', 'parsley', 'flour']    \n",
    "    \"\"\"\n",
    "    \n",
    "    adj_list =  \"|\".join(['fresh','chopped','canned','baby' 'raw','frozen','whole',\\\n",
    "                          'ground','granulated', 'dried', 'all-purpose','granulated',\\\n",
    "                          'unsalted','salted', 'extra virgin', 'ripe'])\n",
    "    return [re.sub(adj_list,'', ingredient).strip() for ingredient in ingredient_list]    "
   ]
  },
  {
   "cell_type": "code",
   "execution_count": 9,
   "metadata": {},
   "outputs": [],
   "source": [
    "def check_subsitutions(sub_list, ingredient):\n",
    "    new_ingredient = ingredient\n",
    "    for word in sub_list:\n",
    "        check = re.search(word, ingredient, re.IGNORECASE)\n",
    "        new_ingredient = check.group(1) if check else new_ingredient\n",
    "    return new_ingredient\n",
    "\n",
    "def substitutions(ingredient_list):\n",
    "    \"\"\"\n",
    "    Inputs: List of ingredients \n",
    "    Output: List with ingredient with common subsitituions \n",
    "    example: substitutions(['garlic cloves', 'herb and salt spice mix',  'low fat firm tofu', 'whole milk' ])\n",
    "            returns ['garlic', 'spice', 'tofu', 'milk']    \n",
    "    \"\"\"\n",
    "    sub_list = ['(garlic)', '(flour)','(yogurt)','(spice)', '(oil)','(tofu)', '(milk)', '(vinegar)',\\\n",
    "                '(butter)', '(rice)', '(cheese)', '(juice)', '(syrup)', '(soup)','(tortilla)', '(yam)']\n",
    "    return [check_subsitutions(sub_list, ingredient) for ingredient in ingredient_list]\n",
    "    #return [ingredient.extract(pat = r'(\"garlic\")') for ingredient in ingredient_list]"
   ]
  },
  {
   "cell_type": "code",
   "execution_count": 10,
   "metadata": {},
   "outputs": [],
   "source": [
    "recipes = pd.read_csv('data/large_data/RAW_recipes.csv')"
   ]
  },
  {
   "cell_type": "code",
   "execution_count": 11,
   "metadata": {},
   "outputs": [],
   "source": [
    "recipes['tags'] = recipes['tags'].apply(literal_eval)"
   ]
  },
  {
   "cell_type": "code",
   "execution_count": 12,
   "metadata": {},
   "outputs": [],
   "source": [
    "tag_dist = recipes['tags'].explode().value_counts()\n",
    "tag_list = recipes['tags'].explode().unique()"
   ]
  },
  {
   "cell_type": "code",
   "execution_count": 13,
   "metadata": {},
   "outputs": [],
   "source": [
    "recipes['mod_ingredients'] = recipes['ingredients'].apply(literal_eval).apply(and_split).apply(make_singular).apply(substitutions).apply(remove_adj)"
   ]
  },
  {
   "cell_type": "code",
   "execution_count": 14,
   "metadata": {},
   "outputs": [],
   "source": [
    "full_ingredient_list = recipes['mod_ingredients'].explode()\n",
    "ingredient_freq = full_ingredient_list.value_counts()"
   ]
  },
  {
   "cell_type": "code",
   "execution_count": 15,
   "metadata": {},
   "outputs": [],
   "source": [
    "ingredient_freq = ingredient_freq.loc[ingredient_freq > 100]"
   ]
  },
  {
   "cell_type": "code",
   "execution_count": 16,
   "metadata": {},
   "outputs": [],
   "source": [
    "ingredient_freq  = ingredient_freq/sum(ingredient_freq)"
   ]
  },
  {
   "cell_type": "code",
   "execution_count": 17,
   "metadata": {},
   "outputs": [
    {
     "data": {
      "text/plain": [
       "salt      0.053631\n",
       "oil       0.042789\n",
       "butter    0.038916\n",
       "cheese    0.037887\n",
       "garlic    0.035839\n",
       "flour     0.028962\n",
       "egg       0.025403\n",
       "sugar     0.025266\n",
       "onion     0.024572\n",
       "juice     0.022410\n",
       "pepper    0.022264\n",
       "milk      0.021602\n",
       "water     0.017375\n",
       "Name: mod_ingredients, dtype: float64"
      ]
     },
     "execution_count": 17,
     "metadata": {},
     "output_type": "execute_result"
    }
   ],
   "source": [
    "ingredient_freq.loc[np.abs(stats.zscore(ingredient_freq)) > 4]\n",
    "#ingredient_freq.quantile(.50)"
   ]
  },
  {
   "cell_type": "code",
   "execution_count": 18,
   "metadata": {},
   "outputs": [
    {
     "data": {
      "text/plain": [
       "0.0006646137927260607"
      ]
     },
     "execution_count": 18,
     "metadata": {},
     "output_type": "execute_result"
    }
   ],
   "source": [
    "ingredient_freq.loc['peanut']"
   ]
  },
  {
   "cell_type": "code",
   "execution_count": 19,
   "metadata": {},
   "outputs": [
    {
     "data": {
      "text/plain": [
       "tomatoe                           0.007197\n",
       "tomato sauce                      0.002229\n",
       "tomato paste                      0.002157\n",
       "diced tomatoe                     0.001722\n",
       "cherry tomatoe                    0.000821\n",
       "plum tomatoe                      0.000601\n",
       "crushed tomatoe                   0.000570\n",
       "tomato                            0.000475\n",
       "stewed tomatoe                    0.000441\n",
       "roma tomatoe                      0.000412\n",
       "tomato puree                      0.000353\n",
       "grape tomatoe                     0.000288\n",
       "sun- tomato                       0.000270\n",
       "sun- tomatoe                      0.000230\n",
       "rotel tomatoe                     0.000206\n",
       "diced tomato                      0.000188\n",
       "plum tomato                       0.000135\n",
       "roma tomato                       0.000129\n",
       "tomato ketchup                    0.000093\n",
       "diced tomatoes with green chil    0.000082\n",
       "italian tomatoe                   0.000067\n",
       "italian-style diced tomatoe       0.000060\n",
       "italian plum tomatoe              0.000060\n",
       "green tomatoe                     0.000059\n",
       "Name: mod_ingredients, dtype: float64"
      ]
     },
     "execution_count": 19,
     "metadata": {},
     "output_type": "execute_result"
    }
   ],
   "source": [
    "ingredient_freq.filter(like=\"tomato\", axis = 0)"
   ]
  },
  {
   "cell_type": "code",
   "execution_count": 20,
   "metadata": {},
   "outputs": [
    {
     "data": {
      "text/plain": [
       "231627        kosher salt\n",
       "231627             butter\n",
       "231627              water\n",
       "231627              bacon\n",
       "231627        white onion\n",
       "               ...       \n",
       "231636                egg\n",
       "231636              flour\n",
       "231636    cream of tartar\n",
       "231636        baking soda\n",
       "231636    vanilla extract\n",
       "Name: mod_ingredients, Length: 100, dtype: object"
      ]
     },
     "execution_count": 20,
     "metadata": {},
     "output_type": "execute_result"
    }
   ],
   "source": [
    "full_ingredient_list[-100:]"
   ]
  },
  {
   "cell_type": "code",
   "execution_count": 21,
   "metadata": {},
   "outputs": [],
   "source": [
    "recipes[\"veg\"] = [(\"vegan\" in tag_list) or (\"vegetarian\" in tag_list) for tag_list in recipes[\"tags\"]]"
   ]
  },
  {
   "cell_type": "code",
   "execution_count": 22,
   "metadata": {},
   "outputs": [],
   "source": [
    "veg_recipes = recipes[recipes[\"veg\"]].copy()"
   ]
  },
  {
   "cell_type": "code",
   "execution_count": 23,
   "metadata": {},
   "outputs": [],
   "source": [
    "interactions = pd.read_csv('data/large_data/RAW_interactions.csv')"
   ]
  },
  {
   "cell_type": "code",
   "execution_count": 24,
   "metadata": {},
   "outputs": [],
   "source": [
    "veg_recipes['ratings'] = [list(interactions[interactions['recipe_id'] == rec_id]['rating'])  for rec_id in veg_recipes['id'] ]"
   ]
  },
  {
   "cell_type": "code",
   "execution_count": 25,
   "metadata": {},
   "outputs": [],
   "source": [
    "veg_recipes['avg_rating'] = veg_recipes['ratings'].map(statistics.mean)"
   ]
  },
  {
   "cell_type": "code",
   "execution_count": 26,
   "metadata": {},
   "outputs": [],
   "source": [
    "veg_recipes['n_ratings'] = veg_recipes['ratings'].map(len)"
   ]
  },
  {
   "cell_type": "code",
   "execution_count": 27,
   "metadata": {},
   "outputs": [
    {
     "data": {
      "text/html": [
       "<div>\n",
       "<style scoped>\n",
       "    .dataframe tbody tr th:only-of-type {\n",
       "        vertical-align: middle;\n",
       "    }\n",
       "\n",
       "    .dataframe tbody tr th {\n",
       "        vertical-align: top;\n",
       "    }\n",
       "\n",
       "    .dataframe thead th {\n",
       "        text-align: right;\n",
       "    }\n",
       "</style>\n",
       "<table border=\"1\" class=\"dataframe\">\n",
       "  <thead>\n",
       "    <tr style=\"text-align: right;\">\n",
       "      <th></th>\n",
       "      <th>id</th>\n",
       "      <th>minutes</th>\n",
       "      <th>contributor_id</th>\n",
       "      <th>n_steps</th>\n",
       "      <th>n_ingredients</th>\n",
       "      <th>avg_rating</th>\n",
       "      <th>n_ratings</th>\n",
       "    </tr>\n",
       "  </thead>\n",
       "  <tbody>\n",
       "    <tr>\n",
       "      <th>count</th>\n",
       "      <td>3128.000000</td>\n",
       "      <td>3128.000000</td>\n",
       "      <td>3.128000e+03</td>\n",
       "      <td>3128.000000</td>\n",
       "      <td>3128.000000</td>\n",
       "      <td>3128.000000</td>\n",
       "      <td>3128.000000</td>\n",
       "    </tr>\n",
       "    <tr>\n",
       "      <th>mean</th>\n",
       "      <td>142169.992967</td>\n",
       "      <td>79.190217</td>\n",
       "      <td>1.624612e+05</td>\n",
       "      <td>8.831841</td>\n",
       "      <td>8.501918</td>\n",
       "      <td>4.460244</td>\n",
       "      <td>28.839834</td>\n",
       "    </tr>\n",
       "    <tr>\n",
       "      <th>std</th>\n",
       "      <td>110971.657708</td>\n",
       "      <td>500.792949</td>\n",
       "      <td>2.163368e+05</td>\n",
       "      <td>5.544758</td>\n",
       "      <td>3.650987</td>\n",
       "      <td>0.411377</td>\n",
       "      <td>43.603142</td>\n",
       "    </tr>\n",
       "    <tr>\n",
       "      <th>min</th>\n",
       "      <td>62.000000</td>\n",
       "      <td>0.000000</td>\n",
       "      <td>2.700000e+01</td>\n",
       "      <td>1.000000</td>\n",
       "      <td>2.000000</td>\n",
       "      <td>1.764706</td>\n",
       "      <td>11.000000</td>\n",
       "    </tr>\n",
       "    <tr>\n",
       "      <th>25%</th>\n",
       "      <td>50842.750000</td>\n",
       "      <td>17.000000</td>\n",
       "      <td>3.744900e+04</td>\n",
       "      <td>5.000000</td>\n",
       "      <td>6.000000</td>\n",
       "      <td>4.266667</td>\n",
       "      <td>13.000000</td>\n",
       "    </tr>\n",
       "    <tr>\n",
       "      <th>50%</th>\n",
       "      <td>117433.500000</td>\n",
       "      <td>31.000000</td>\n",
       "      <td>7.132400e+04</td>\n",
       "      <td>8.000000</td>\n",
       "      <td>8.000000</td>\n",
       "      <td>4.538462</td>\n",
       "      <td>17.000000</td>\n",
       "    </tr>\n",
       "    <tr>\n",
       "      <th>75%</th>\n",
       "      <td>204854.750000</td>\n",
       "      <td>58.500000</td>\n",
       "      <td>2.097470e+05</td>\n",
       "      <td>11.000000</td>\n",
       "      <td>11.000000</td>\n",
       "      <td>4.750000</td>\n",
       "      <td>28.000000</td>\n",
       "    </tr>\n",
       "    <tr>\n",
       "      <th>max</th>\n",
       "      <td>512584.000000</td>\n",
       "      <td>20190.000000</td>\n",
       "      <td>2.222923e+06</td>\n",
       "      <td>82.000000</td>\n",
       "      <td>25.000000</td>\n",
       "      <td>5.000000</td>\n",
       "      <td>1220.000000</td>\n",
       "    </tr>\n",
       "  </tbody>\n",
       "</table>\n",
       "</div>"
      ],
      "text/plain": [
       "                  id       minutes  contributor_id      n_steps  \\\n",
       "count    3128.000000   3128.000000    3.128000e+03  3128.000000   \n",
       "mean   142169.992967     79.190217    1.624612e+05     8.831841   \n",
       "std    110971.657708    500.792949    2.163368e+05     5.544758   \n",
       "min        62.000000      0.000000    2.700000e+01     1.000000   \n",
       "25%     50842.750000     17.000000    3.744900e+04     5.000000   \n",
       "50%    117433.500000     31.000000    7.132400e+04     8.000000   \n",
       "75%    204854.750000     58.500000    2.097470e+05    11.000000   \n",
       "max    512584.000000  20190.000000    2.222923e+06    82.000000   \n",
       "\n",
       "       n_ingredients   avg_rating    n_ratings  \n",
       "count    3128.000000  3128.000000  3128.000000  \n",
       "mean        8.501918     4.460244    28.839834  \n",
       "std         3.650987     0.411377    43.603142  \n",
       "min         2.000000     1.764706    11.000000  \n",
       "25%         6.000000     4.266667    13.000000  \n",
       "50%         8.000000     4.538462    17.000000  \n",
       "75%        11.000000     4.750000    28.000000  \n",
       "max        25.000000     5.000000  1220.000000  "
      ]
     },
     "execution_count": 27,
     "metadata": {},
     "output_type": "execute_result"
    }
   ],
   "source": [
    "veg_recipes[veg_recipes['n_ratings'] > 10].describe()"
   ]
  },
  {
   "cell_type": "code",
   "execution_count": 28,
   "metadata": {},
   "outputs": [],
   "source": [
    "veg_recipes['mod_ingredients'] = veg_recipes['ingredients'].apply(literal_eval).apply(and_split)"
   ]
  },
  {
   "cell_type": "code",
   "execution_count": 29,
   "metadata": {},
   "outputs": [
    {
     "data": {
      "text/html": [
       "<div>\n",
       "<style scoped>\n",
       "    .dataframe tbody tr th:only-of-type {\n",
       "        vertical-align: middle;\n",
       "    }\n",
       "\n",
       "    .dataframe tbody tr th {\n",
       "        vertical-align: top;\n",
       "    }\n",
       "\n",
       "    .dataframe thead th {\n",
       "        text-align: right;\n",
       "    }\n",
       "</style>\n",
       "<table border=\"1\" class=\"dataframe\">\n",
       "  <thead>\n",
       "    <tr style=\"text-align: right;\">\n",
       "      <th></th>\n",
       "      <th>mod_ingredients</th>\n",
       "    </tr>\n",
       "  </thead>\n",
       "  <tbody>\n",
       "    <tr>\n",
       "      <th>0</th>\n",
       "      <td>[winter squash, mexican seasoning, mixed spice, honey, butter, olive oil, salt]</td>\n",
       "    </tr>\n",
       "    <tr>\n",
       "      <th>4</th>\n",
       "      <td>[tomato juice, apple cider vinegar, sugar, salt, pepper, clove oil, cinnamon oil, dry mustard]</td>\n",
       "    </tr>\n",
       "    <tr>\n",
       "      <th>6</th>\n",
       "      <td>[fennel seeds, green olives, ripe olives, garlic, peppercorn, orange rind, orange juice, red chile, extra virgin olive oil]</td>\n",
       "    </tr>\n",
       "    <tr>\n",
       "      <th>16</th>\n",
       "      <td>[egg roll wrap, whole green chilies, cheese, cornstarch, oil]</td>\n",
       "    </tr>\n",
       "    <tr>\n",
       "      <th>19</th>\n",
       "      <td>[canola oil, onion, garlic, cauliflower, potatoes, vegetable bouillon cubes, water, salt free herb, spice seasoning mix, ground coriander, great northern bean, salt, pepper, broccoli floret, escarole, green peas, red bell pepper, fresh herb]</td>\n",
       "    </tr>\n",
       "    <tr>\n",
       "      <th>...</th>\n",
       "      <td>...</td>\n",
       "    </tr>\n",
       "    <tr>\n",
       "      <th>231610</th>\n",
       "      <td>[white bread flour, instant yeast, sugar, salt, water]</td>\n",
       "    </tr>\n",
       "    <tr>\n",
       "      <th>231613</th>\n",
       "      <td>[sorrel, butter, sugar, raisins]</td>\n",
       "    </tr>\n",
       "    <tr>\n",
       "      <th>231620</th>\n",
       "      <td>[milk, butter, dry yeast, water, salt, sugar, flour]</td>\n",
       "    </tr>\n",
       "    <tr>\n",
       "      <th>231625</th>\n",
       "      <td>[butter, onions, flour, salt, vinegar]</td>\n",
       "    </tr>\n",
       "    <tr>\n",
       "      <th>231633</th>\n",
       "      <td>[paprika, salt, garlic powder, onion powder, dried basil, dried oregano, dried tarragon, dried thyme, powdered sugar, black pepper, cayenne pepper, red pepper flakes, celery seed]</td>\n",
       "    </tr>\n",
       "  </tbody>\n",
       "</table>\n",
       "<p>35651 rows × 1 columns</p>\n",
       "</div>"
      ],
      "text/plain": [
       "                                                                                                                                                                                                                                          mod_ingredients\n",
       "0                                                                                                                                                                         [winter squash, mexican seasoning, mixed spice, honey, butter, olive oil, salt]\n",
       "4                                                                                                                                                          [tomato juice, apple cider vinegar, sugar, salt, pepper, clove oil, cinnamon oil, dry mustard]\n",
       "6                                                                                                                             [fennel seeds, green olives, ripe olives, garlic, peppercorn, orange rind, orange juice, red chile, extra virgin olive oil]\n",
       "16                                                                                                                                                                                          [egg roll wrap, whole green chilies, cheese, cornstarch, oil]\n",
       "19      [canola oil, onion, garlic, cauliflower, potatoes, vegetable bouillon cubes, water, salt free herb, spice seasoning mix, ground coriander, great northern bean, salt, pepper, broccoli floret, escarole, green peas, red bell pepper, fresh herb]\n",
       "...                                                                                                                                                                                                                                                   ...\n",
       "231610                                                                                                                                                                                             [white bread flour, instant yeast, sugar, salt, water]\n",
       "231613                                                                                                                                                                                                                   [sorrel, butter, sugar, raisins]\n",
       "231620                                                                                                                                                                                               [milk, butter, dry yeast, water, salt, sugar, flour]\n",
       "231625                                                                                                                                                                                                             [butter, onions, flour, salt, vinegar]\n",
       "231633                                                                [paprika, salt, garlic powder, onion powder, dried basil, dried oregano, dried tarragon, dried thyme, powdered sugar, black pepper, cayenne pepper, red pepper flakes, celery seed]\n",
       "\n",
       "[35651 rows x 1 columns]"
      ]
     },
     "execution_count": 29,
     "metadata": {},
     "output_type": "execute_result"
    }
   ],
   "source": [
    "veg_recipes[['mod_ingredients']]\n",
    "#veg_recipes[['ingredients']]"
   ]
  },
  {
   "cell_type": "code",
   "execution_count": 30,
   "metadata": {},
   "outputs": [],
   "source": [
    "#search_phrase = input()"
   ]
  },
  {
   "cell_type": "code",
   "execution_count": 31,
   "metadata": {},
   "outputs": [],
   "source": [
    "search_phrase = \"butternut squash soup\"\n",
    "search_words = search_phrase.split(\" \")\n",
    "search_words = \"|\".join(\"^{}$\".format(word) for word in search_words)"
   ]
  },
  {
   "cell_type": "code",
   "execution_count": 75,
   "metadata": {},
   "outputs": [],
   "source": [
    "recipe_list = veg_recipes.loc[veg_recipes['name'].str.contains(search_phrase, case=False)].copy()"
   ]
  },
  {
   "cell_type": "code",
   "execution_count": 76,
   "metadata": {},
   "outputs": [
    {
     "data": {
      "text/html": [
       "<div>\n",
       "<style scoped>\n",
       "    .dataframe tbody tr th:only-of-type {\n",
       "        vertical-align: middle;\n",
       "    }\n",
       "\n",
       "    .dataframe tbody tr th {\n",
       "        vertical-align: top;\n",
       "    }\n",
       "\n",
       "    .dataframe thead th {\n",
       "        text-align: right;\n",
       "    }\n",
       "</style>\n",
       "<table border=\"1\" class=\"dataframe\">\n",
       "  <thead>\n",
       "    <tr style=\"text-align: right;\">\n",
       "      <th></th>\n",
       "      <th>id</th>\n",
       "      <th>minutes</th>\n",
       "      <th>contributor_id</th>\n",
       "      <th>n_steps</th>\n",
       "      <th>n_ingredients</th>\n",
       "      <th>avg_rating</th>\n",
       "      <th>n_ratings</th>\n",
       "    </tr>\n",
       "  </thead>\n",
       "  <tbody>\n",
       "    <tr>\n",
       "      <th>count</th>\n",
       "      <td>23.000000</td>\n",
       "      <td>23.000000</td>\n",
       "      <td>2.300000e+01</td>\n",
       "      <td>23.000000</td>\n",
       "      <td>23.000000</td>\n",
       "      <td>23.000000</td>\n",
       "      <td>23.000000</td>\n",
       "    </tr>\n",
       "    <tr>\n",
       "      <th>mean</th>\n",
       "      <td>238846.217391</td>\n",
       "      <td>62.913043</td>\n",
       "      <td>4.463659e+05</td>\n",
       "      <td>12.260870</td>\n",
       "      <td>11.217391</td>\n",
       "      <td>4.304743</td>\n",
       "      <td>4.260870</td>\n",
       "    </tr>\n",
       "    <tr>\n",
       "      <th>std</th>\n",
       "      <td>142403.200255</td>\n",
       "      <td>38.257397</td>\n",
       "      <td>5.458591e+05</td>\n",
       "      <td>6.091853</td>\n",
       "      <td>3.789417</td>\n",
       "      <td>0.821696</td>\n",
       "      <td>6.565872</td>\n",
       "    </tr>\n",
       "    <tr>\n",
       "      <th>min</th>\n",
       "      <td>11636.000000</td>\n",
       "      <td>9.000000</td>\n",
       "      <td>3.288000e+03</td>\n",
       "      <td>5.000000</td>\n",
       "      <td>6.000000</td>\n",
       "      <td>2.333333</td>\n",
       "      <td>1.000000</td>\n",
       "    </tr>\n",
       "    <tr>\n",
       "      <th>25%</th>\n",
       "      <td>157662.000000</td>\n",
       "      <td>35.000000</td>\n",
       "      <td>8.702850e+04</td>\n",
       "      <td>7.500000</td>\n",
       "      <td>7.500000</td>\n",
       "      <td>4.000000</td>\n",
       "      <td>1.000000</td>\n",
       "    </tr>\n",
       "    <tr>\n",
       "      <th>50%</th>\n",
       "      <td>226765.000000</td>\n",
       "      <td>48.000000</td>\n",
       "      <td>2.398970e+05</td>\n",
       "      <td>12.000000</td>\n",
       "      <td>11.000000</td>\n",
       "      <td>4.714286</td>\n",
       "      <td>2.000000</td>\n",
       "    </tr>\n",
       "    <tr>\n",
       "      <th>75%</th>\n",
       "      <td>313188.500000</td>\n",
       "      <td>90.000000</td>\n",
       "      <td>5.575435e+05</td>\n",
       "      <td>15.000000</td>\n",
       "      <td>13.500000</td>\n",
       "      <td>5.000000</td>\n",
       "      <td>4.000000</td>\n",
       "    </tr>\n",
       "    <tr>\n",
       "      <th>max</th>\n",
       "      <td>490345.000000</td>\n",
       "      <td>170.000000</td>\n",
       "      <td>2.462143e+06</td>\n",
       "      <td>27.000000</td>\n",
       "      <td>21.000000</td>\n",
       "      <td>5.000000</td>\n",
       "      <td>31.000000</td>\n",
       "    </tr>\n",
       "  </tbody>\n",
       "</table>\n",
       "</div>"
      ],
      "text/plain": [
       "                  id     minutes  contributor_id    n_steps  n_ingredients  \\\n",
       "count      23.000000   23.000000    2.300000e+01  23.000000      23.000000   \n",
       "mean   238846.217391   62.913043    4.463659e+05  12.260870      11.217391   \n",
       "std    142403.200255   38.257397    5.458591e+05   6.091853       3.789417   \n",
       "min     11636.000000    9.000000    3.288000e+03   5.000000       6.000000   \n",
       "25%    157662.000000   35.000000    8.702850e+04   7.500000       7.500000   \n",
       "50%    226765.000000   48.000000    2.398970e+05  12.000000      11.000000   \n",
       "75%    313188.500000   90.000000    5.575435e+05  15.000000      13.500000   \n",
       "max    490345.000000  170.000000    2.462143e+06  27.000000      21.000000   \n",
       "\n",
       "       avg_rating  n_ratings  \n",
       "count   23.000000  23.000000  \n",
       "mean     4.304743   4.260870  \n",
       "std      0.821696   6.565872  \n",
       "min      2.333333   1.000000  \n",
       "25%      4.000000   1.000000  \n",
       "50%      4.714286   2.000000  \n",
       "75%      5.000000   4.000000  \n",
       "max      5.000000  31.000000  "
      ]
     },
     "execution_count": 76,
     "metadata": {},
     "output_type": "execute_result"
    }
   ],
   "source": [
    "recipe_list.describe()"
   ]
  },
  {
   "cell_type": "code",
   "execution_count": 77,
   "metadata": {},
   "outputs": [],
   "source": [
    "common_ingredients = recipe_list['mod_ingredients'].explode().value_counts()"
   ]
  },
  {
   "cell_type": "code",
   "execution_count": 78,
   "metadata": {},
   "outputs": [
    {
     "data": {
      "text/plain": [
       "pepper                         7\n",
       "red bell pepper                2\n",
       "black pepper                   2\n",
       "red pepper flakes              1\n",
       "freshly ground black pepper    1\n",
       "chili pepper                   1\n",
       "scotch bonnet pepper           1\n",
       "cayenne pepper                 1\n",
       "dry crushed red pepper         1\n",
       "ground red pepper              1\n",
       "white pepper                   1\n",
       "ground pepper                  1\n",
       "yellow bell pepper             1\n",
       "Name: mod_ingredients, dtype: int64"
      ]
     },
     "execution_count": 78,
     "metadata": {},
     "output_type": "execute_result"
    }
   ],
   "source": [
    "common_ingredients.filter(like = \"pepper\", axis = 0)"
   ]
  },
  {
   "cell_type": "code",
   "execution_count": null,
   "metadata": {},
   "outputs": [],
   "source": [
    "veg_recipes['ingredients']"
   ]
  },
  {
   "cell_type": "code",
   "execution_count": 13,
   "metadata": {},
   "outputs": [
    {
     "data": {
      "text/plain": [
       "<matplotlib.axes._subplots.AxesSubplot at 0x28859329f70>"
      ]
     },
     "execution_count": 13,
     "metadata": {},
     "output_type": "execute_result"
    },
    {
     "data": {
      "image/png": "[encoded data removed]",
      "text/plain": [
       "<Figure size 576x576 with 1 Axes>"
      ]
     },
     "metadata": {},
     "output_type": "display_data"
    }
   ],
   "source": [
    "musicians = {\n",
    "    \"Members of The Beatles\": {\"Paul McCartney\", \"John Lennon\", \"George Harrison\", \"Ringo Starr\"},\n",
    "    \"Guitarists\": {\"John Lennon\", \"George Harrison\", \"Jimi Hendrix\", \"Eric Clapton\", \"Carlos Santana\"},\n",
    "    \"Played at Woodstock\": {\"Jimi Hendrix\", \"Carlos Santana\", \"Keith Moon\"}\n",
    "}\n",
    "venn(musicians)"
   ]
  },
  {
   "cell_type": "code",
   "execution_count": 79,
   "metadata": {},
   "outputs": [],
   "source": [
    "recipe_list['ingredient_score'] = recipe_list['mod_ingredients'].apply(calc_ingredient_ratings)"
   ]
  },
  {
   "cell_type": "code",
   "execution_count": 71,
   "metadata": {},
   "outputs": [
    {
     "data": {
      "text/plain": [
       "0.11481054029718583"
      ]
     },
     "execution_count": 71,
     "metadata": {},
     "output_type": "execute_result"
    }
   ],
   "source": [
    "def calc_ingredient_ratings(ingredient_list, ingredient_freq= ingredient_freq):\n",
    "    #print(ingredient_list) \n",
    "    rating = 0\n",
    "    for ingredient in ingredient_list:\n",
    "        try:\n",
    "            freq = ingredient_freq.loc[ingredient]\n",
    "        except:\n",
    "            freq = 0\n",
    "        rating += freq\n",
    "    return rating\n",
    "    \n",
    "calc_ingredient_ratings(['salt','butter','pepper','shoe'])"
   ]
  },
  {
   "cell_type": "code",
   "execution_count": 80,
   "metadata": {},
   "outputs": [
    {
     "data": {
      "text/html": [
       "<div>\n",
       "<style scoped>\n",
       "    .dataframe tbody tr th:only-of-type {\n",
       "        vertical-align: middle;\n",
       "    }\n",
       "\n",
       "    .dataframe tbody tr th {\n",
       "        vertical-align: top;\n",
       "    }\n",
       "\n",
       "    .dataframe thead th {\n",
       "        text-align: right;\n",
       "    }\n",
       "</style>\n",
       "<table border=\"1\" class=\"dataframe\">\n",
       "  <thead>\n",
       "    <tr style=\"text-align: right;\">\n",
       "      <th></th>\n",
       "      <th>id</th>\n",
       "      <th>minutes</th>\n",
       "      <th>contributor_id</th>\n",
       "      <th>n_steps</th>\n",
       "      <th>n_ingredients</th>\n",
       "      <th>avg_rating</th>\n",
       "      <th>n_ratings</th>\n",
       "      <th>ingredient_score</th>\n",
       "    </tr>\n",
       "  </thead>\n",
       "  <tbody>\n",
       "    <tr>\n",
       "      <th>count</th>\n",
       "      <td>23.000000</td>\n",
       "      <td>23.000000</td>\n",
       "      <td>2.300000e+01</td>\n",
       "      <td>23.000000</td>\n",
       "      <td>23.000000</td>\n",
       "      <td>23.000000</td>\n",
       "      <td>23.000000</td>\n",
       "      <td>23.000000</td>\n",
       "    </tr>\n",
       "    <tr>\n",
       "      <th>mean</th>\n",
       "      <td>238846.217391</td>\n",
       "      <td>62.913043</td>\n",
       "      <td>4.463659e+05</td>\n",
       "      <td>12.260870</td>\n",
       "      <td>11.217391</td>\n",
       "      <td>4.304743</td>\n",
       "      <td>4.260870</td>\n",
       "      <td>0.081922</td>\n",
       "    </tr>\n",
       "    <tr>\n",
       "      <th>std</th>\n",
       "      <td>142403.200255</td>\n",
       "      <td>38.257397</td>\n",
       "      <td>5.458591e+05</td>\n",
       "      <td>6.091853</td>\n",
       "      <td>3.789417</td>\n",
       "      <td>0.821696</td>\n",
       "      <td>6.565872</td>\n",
       "      <td>0.037237</td>\n",
       "    </tr>\n",
       "    <tr>\n",
       "      <th>min</th>\n",
       "      <td>11636.000000</td>\n",
       "      <td>9.000000</td>\n",
       "      <td>3.288000e+03</td>\n",
       "      <td>5.000000</td>\n",
       "      <td>6.000000</td>\n",
       "      <td>2.333333</td>\n",
       "      <td>1.000000</td>\n",
       "      <td>0.004880</td>\n",
       "    </tr>\n",
       "    <tr>\n",
       "      <th>25%</th>\n",
       "      <td>157662.000000</td>\n",
       "      <td>35.000000</td>\n",
       "      <td>8.702850e+04</td>\n",
       "      <td>7.500000</td>\n",
       "      <td>7.500000</td>\n",
       "      <td>4.000000</td>\n",
       "      <td>1.000000</td>\n",
       "      <td>0.060182</td>\n",
       "    </tr>\n",
       "    <tr>\n",
       "      <th>50%</th>\n",
       "      <td>226765.000000</td>\n",
       "      <td>48.000000</td>\n",
       "      <td>2.398970e+05</td>\n",
       "      <td>12.000000</td>\n",
       "      <td>11.000000</td>\n",
       "      <td>4.714286</td>\n",
       "      <td>2.000000</td>\n",
       "      <td>0.078203</td>\n",
       "    </tr>\n",
       "    <tr>\n",
       "      <th>75%</th>\n",
       "      <td>313188.500000</td>\n",
       "      <td>90.000000</td>\n",
       "      <td>5.575435e+05</td>\n",
       "      <td>15.000000</td>\n",
       "      <td>13.500000</td>\n",
       "      <td>5.000000</td>\n",
       "      <td>4.000000</td>\n",
       "      <td>0.095717</td>\n",
       "    </tr>\n",
       "    <tr>\n",
       "      <th>max</th>\n",
       "      <td>490345.000000</td>\n",
       "      <td>170.000000</td>\n",
       "      <td>2.462143e+06</td>\n",
       "      <td>27.000000</td>\n",
       "      <td>21.000000</td>\n",
       "      <td>5.000000</td>\n",
       "      <td>31.000000</td>\n",
       "      <td>0.149002</td>\n",
       "    </tr>\n",
       "  </tbody>\n",
       "</table>\n",
       "</div>"
      ],
      "text/plain": [
       "                  id     minutes  contributor_id    n_steps  n_ingredients  \\\n",
       "count      23.000000   23.000000    2.300000e+01  23.000000      23.000000   \n",
       "mean   238846.217391   62.913043    4.463659e+05  12.260870      11.217391   \n",
       "std    142403.200255   38.257397    5.458591e+05   6.091853       3.789417   \n",
       "min     11636.000000    9.000000    3.288000e+03   5.000000       6.000000   \n",
       "25%    157662.000000   35.000000    8.702850e+04   7.500000       7.500000   \n",
       "50%    226765.000000   48.000000    2.398970e+05  12.000000      11.000000   \n",
       "75%    313188.500000   90.000000    5.575435e+05  15.000000      13.500000   \n",
       "max    490345.000000  170.000000    2.462143e+06  27.000000      21.000000   \n",
       "\n",
       "       avg_rating  n_ratings  ingredient_score  \n",
       "count   23.000000  23.000000         23.000000  \n",
       "mean     4.304743   4.260870          0.081922  \n",
       "std      0.821696   6.565872          0.037237  \n",
       "min      2.333333   1.000000          0.004880  \n",
       "25%      4.000000   1.000000          0.060182  \n",
       "50%      4.714286   2.000000          0.078203  \n",
       "75%      5.000000   4.000000          0.095717  \n",
       "max      5.000000  31.000000          0.149002  "
      ]
     },
     "execution_count": 80,
     "metadata": {},
     "output_type": "execute_result"
    }
   ],
   "source": [
    "recipe_list.describe()"
   ]
  },
  {
   "cell_type": "code",
   "execution_count": 99,
   "metadata": {},
   "outputs": [],
   "source": [
    "recipe_list['overall_score'] = 1/recipe_list['minutes'] + recipe_list['avg_rating'] + recipe_list['ingredient_score']*100 - recipe_list['n_steps']/10 - recipe_list['n_ingredients']/10"
   ]
  },
  {
   "cell_type": "code",
   "execution_count": 85,
   "metadata": {},
   "outputs": [
    {
     "data": {
      "text/html": [
       "<div>\n",
       "<style scoped>\n",
       "    .dataframe tbody tr th:only-of-type {\n",
       "        vertical-align: middle;\n",
       "    }\n",
       "\n",
       "    .dataframe tbody tr th {\n",
       "        vertical-align: top;\n",
       "    }\n",
       "\n",
       "    .dataframe thead th {\n",
       "        text-align: right;\n",
       "    }\n",
       "</style>\n",
       "<table border=\"1\" class=\"dataframe\">\n",
       "  <thead>\n",
       "    <tr style=\"text-align: right;\">\n",
       "      <th></th>\n",
       "      <th>name</th>\n",
       "      <th>id</th>\n",
       "      <th>minutes</th>\n",
       "      <th>contributor_id</th>\n",
       "      <th>submitted</th>\n",
       "      <th>tags</th>\n",
       "      <th>nutrition</th>\n",
       "      <th>n_steps</th>\n",
       "      <th>steps</th>\n",
       "      <th>description</th>\n",
       "      <th>ingredients</th>\n",
       "      <th>n_ingredients</th>\n",
       "      <th>mod_ingredients</th>\n",
       "      <th>veg</th>\n",
       "      <th>ratings</th>\n",
       "      <th>avg_rating</th>\n",
       "      <th>n_ratings</th>\n",
       "      <th>ingredient_score</th>\n",
       "      <th>overall_score</th>\n",
       "    </tr>\n",
       "  </thead>\n",
       "  <tbody>\n",
       "    <tr>\n",
       "      <th>210378</th>\n",
       "      <td>thai butternut squash soup</td>\n",
       "      <td>286216</td>\n",
       "      <td>50</td>\n",
       "      <td>211492</td>\n",
       "      <td>2008-02-12</td>\n",
       "      <td>[lactose, 60-minutes-or-less, time-to-make, course, main-ingredient, cuisine, preparation, occasion, bisques-cream-soups, soups-stews, fruit, vegetables, asian, thai, european, dinner-party, vegan, vegetarian, english, dietary, gluten-free, free-of-something, tropical-fruit, mango, carrots, squash]</td>\n",
       "      <td>[288.9, 25.0, 44.0, 2.0, 9.0, 53.0, 12.0]</td>\n",
       "      <td>8</td>\n",
       "      <td>['peel the squash , remove seeds and cut into large cubes together with the carrot', 'heat the oil and cook the onione with garlic and ginger until soft , but not browned', 'add the squash , carrots and lemongrass , just cover with vegetable stock , bring to boil and cook on low power until squash is tender', 'add the mango and chilli sometime during the cooking', 'add the coconut milk and cur...</td>\n",
       "      <td>this is my first recipe in zaar and a variation on a recipe from lisa connely (recipe #38904). i liked the original, but decided to tweak it to improve the thainess factor and make it both sweeter and hotter at the same time. the result was oh so good, now this is going to be the butternut squash soup for me for ever!\\r\\n\\r\\nthe carrots are there mostly for the added colour and mango for the s...</td>\n",
       "      <td>['butternut squash', 'onion', 'garlic cloves', 'fresh ginger', 'carrots', 'mango', 'oil', 'vegetable stock', 'coconut milk', 'curry powder', 'lemongrass', 'chili pepper', 'salt', 'sugar']</td>\n",
       "      <td>14</td>\n",
       "      <td>[butternut squash, onion, garlic cloves, fresh ginger, carrots, mango, oil, vegetable stock, coconut milk, curry powder, lemongrass, chili pepper, salt, sugar]</td>\n",
       "      <td>True</td>\n",
       "      <td>[5, 5]</td>\n",
       "      <td>5.000000</td>\n",
       "      <td>2</td>\n",
       "      <td>0.149002</td>\n",
       "      <td>17.700184</td>\n",
       "    </tr>\n",
       "    <tr>\n",
       "      <th>10930</th>\n",
       "      <td>autumn gold butternut squash soup</td>\n",
       "      <td>11636</td>\n",
       "      <td>35</td>\n",
       "      <td>10404</td>\n",
       "      <td>2001-09-13</td>\n",
       "      <td>[60-minutes-or-less, time-to-make, course, main-ingredient, cuisine, preparation, occasion, north-american, low-protein, healthy, soups-stews, vegetables, american, fall, low-fat, vegan, vegetarian, stove-top, dietary, low-sodium, low-cholesterol, seasonal, low-saturated-fat, low-calorie, low-carb, healthy-2, low-in-something, equipment]</td>\n",
       "      <td>[190.4, 3.0, 73.0, 11.0, 7.0, 2.0, 14.0]</td>\n",
       "      <td>5</td>\n",
       "      <td>['cook the squash-i boil it for this recipe and use the broth in place of the water called for', 'saute the chopped onion in the oil with the spices and bay until onion is translucent', 'add the carrot and celery and the squash water', 'cover and simmer until carots are tender', 'remove bay leaves puree the veg and squash , whisk in juices return to a simmer , taste and add salt and pepper']</td>\n",
       "      <td>another great recipe from \"sundays at moosewood restaurant\"</td>\n",
       "      <td>['butternut squash', 'onion', 'vegetable oil', 'nutmeg', 'cinnamon', 'thyme', 'bay leaves', 'carrot', 'celery', 'water', 'tomato soup', 'apple juice', 'orange juice', 'salt and pepper']</td>\n",
       "      <td>14</td>\n",
       "      <td>[butternut squash, onion, vegetable oil, nutmeg, cinnamon, thyme, bay leaves, carrot, celery, water, tomato soup, apple juice, orange juice, salt, pepper]</td>\n",
       "      <td>True</td>\n",
       "      <td>[4]</td>\n",
       "      <td>4.000000</td>\n",
       "      <td>1</td>\n",
       "      <td>0.148380</td>\n",
       "      <td>16.937951</td>\n",
       "    </tr>\n",
       "    <tr>\n",
       "      <th>32525</th>\n",
       "      <td>butternut squash soup with vegetable stock</td>\n",
       "      <td>226765</td>\n",
       "      <td>90</td>\n",
       "      <td>496329</td>\n",
       "      <td>2007-05-08</td>\n",
       "      <td>[time-to-make, course, main-ingredient, cuisine, preparation, occasion, north-american, main-dish, soups-stews, vegetables, american, vegetarian, winter, dietary, seasonal, comfort-food, inexpensive, squash, taste-mood, presentation, served-hot, 4-hours-or-less]</td>\n",
       "      <td>[327.6, 24.0, 43.0, 25.0, 9.0, 16.0, 16.0]</td>\n",
       "      <td>14</td>\n",
       "      <td>['preheat the oven to 400f', 'brush the bottom of a baking pan with olive oil and set aside', 'cut the squash through the stem ends into halves , prick the skin in several places , and scoop out the seeds', 'brush the cut surfaces with about a tablespoon of the olive oil', 'put the garlic inside the squash cavities and place halves in the pan cut side down', 'add the onions to the pan and brus...</td>\n",
       "      <td>adapted from moosewood restaurant recipe</td>\n",
       "      <td>['olive oil', 'butternut squash', 'garlic cloves', 'onions', 'water', 'vegetable stock', 'dried thyme', 'ground nutmeg', 'salt', 'pepper', 'butter', 'fresh sage leaves']</td>\n",
       "      <td>12</td>\n",
       "      <td>[olive oil, butternut squash, garlic cloves, onions, water, vegetable stock, dried thyme, ground nutmeg, salt, pepper, butter, fresh sage leaves]</td>\n",
       "      <td>True</td>\n",
       "      <td>[5]</td>\n",
       "      <td>5.000000</td>\n",
       "      <td>1</td>\n",
       "      <td>0.132813</td>\n",
       "      <td>15.681332</td>\n",
       "    </tr>\n",
       "    <tr>\n",
       "      <th>38856</th>\n",
       "      <td>cheddar butternut squash soup  lightened up</td>\n",
       "      <td>174955</td>\n",
       "      <td>35</td>\n",
       "      <td>37449</td>\n",
       "      <td>2006-06-27</td>\n",
       "      <td>[60-minutes-or-less, time-to-make, course, main-ingredient, cuisine, preparation, occasion, north-american, soups-stews, eggs-dairy, vegetables, american, european, dinner-party, vegetarian, cheese, dietary, northeastern-united-states, squash]</td>\n",
       "      <td>[260.4, 20.0, 20.0, 7.0, 16.0, 41.0, 10.0]</td>\n",
       "      <td>12</td>\n",
       "      <td>['in a large saucepan , combine squash and broth', 'bring to a boil and reduce heat to medium', 'simmer until squash is vry tender , about 20 minutes', 'remove from the heat and let stand until warm , then puree in batches in the blender', 'return the puree to the saucepan and place over medium low heat', 'stir in the sour cream , cheddar , butter and cayenne', 'season with salt and pepper', '...</td>\n",
       "      <td>adapted from the cabot cheese folks, this is a lightened up version of the delicious cheddar butternut squash soup. russians use a lot of sour cream, so i have put this in my russian cookbook!</td>\n",
       "      <td>['butternut squash', 'vegetable broth', 'light sour cream', 'light cheddar cheese', 'butter', 'cayenne pepper', 'salt', 'pepper', 'brown sugar', 'chives']</td>\n",
       "      <td>10</td>\n",
       "      <td>[butternut squash, vegetable broth, light sour cream, light cheddar cheese, butter, cayenne pepper, salt, pepper, brown sugar, chives]</td>\n",
       "      <td>True</td>\n",
       "      <td>[5, 5, 4, 5]</td>\n",
       "      <td>4.750000</td>\n",
       "      <td>4</td>\n",
       "      <td>0.128413</td>\n",
       "      <td>15.391274</td>\n",
       "    </tr>\n",
       "    <tr>\n",
       "      <th>139096</th>\n",
       "      <td>moosewood s butternut squash soup with sage</td>\n",
       "      <td>19650</td>\n",
       "      <td>90</td>\n",
       "      <td>3288</td>\n",
       "      <td>2002-02-13</td>\n",
       "      <td>[weeknight, time-to-make, course, main-ingredient, cuisine, preparation, north-american, soups-stews, vegetables, american, oven, vegetarian, stove-top, dietary, squash, equipment, 4-hours-or-less]</td>\n",
       "      <td>[413.2, 24.0, 114.0, 25.0, 9.0, 16.0, 23.0]</td>\n",
       "      <td>14</td>\n",
       "      <td>['preheat the oven to 400f', 'brush the bottom of a baking pan with olive oil and set aside', 'cut the squash through the stem ends into halves , prick the skin in several places with a knife , and scoop out the seeds with a spoon', 'brush the cut surfaces with about a tablespoon of the olive oil', 'put the garlic inside the squash cavities and place halves in the pan cut side down', 'add the ...</td>\n",
       "      <td>this golden soup has a tantalizing aroma and a light crunch from the sage leaves. from the moosewood restaurant in new york</td>\n",
       "      <td>['olive oil', 'butternut squash', 'garlic cloves', 'spanish onions', 'water', 'apple juice', 'dried thyme', 'ground nutmeg', 'salt', 'pepper', 'butter', 'fresh sage leaves']</td>\n",
       "      <td>12</td>\n",
       "      <td>[olive oil, butternut squash, garlic cloves, spanish onions, water, apple juice, dried thyme, ground nutmeg, salt, pepper, butter, fresh sage leaves]</td>\n",
       "      <td>True</td>\n",
       "      <td>[5, 5, 5, 5, 4, 3, 4, 5, 5, 5, 5, 5, 5, 5]</td>\n",
       "      <td>4.714286</td>\n",
       "      <td>14</td>\n",
       "      <td>0.132186</td>\n",
       "      <td>15.332837</td>\n",
       "    </tr>\n",
       "  </tbody>\n",
       "</table>\n",
       "</div>"
      ],
      "text/plain": [
       "                                               name      id  minutes  \\\n",
       "210378                   thai butternut squash soup  286216       50   \n",
       "10930             autumn gold butternut squash soup   11636       35   \n",
       "32525    butternut squash soup with vegetable stock  226765       90   \n",
       "38856   cheddar butternut squash soup  lightened up  174955       35   \n",
       "139096  moosewood s butternut squash soup with sage   19650       90   \n",
       "\n",
       "        contributor_id   submitted  \\\n",
       "210378          211492  2008-02-12   \n",
       "10930            10404  2001-09-13   \n",
       "32525           496329  2007-05-08   \n",
       "38856            37449  2006-06-27   \n",
       "139096            3288  2002-02-13   \n",
       "\n",
       "                                                                                                                                                                                                                                                                                                                                                       tags  \\\n",
       "210378                                          [lactose, 60-minutes-or-less, time-to-make, course, main-ingredient, cuisine, preparation, occasion, bisques-cream-soups, soups-stews, fruit, vegetables, asian, thai, european, dinner-party, vegan, vegetarian, english, dietary, gluten-free, free-of-something, tropical-fruit, mango, carrots, squash]   \n",
       "10930   [60-minutes-or-less, time-to-make, course, main-ingredient, cuisine, preparation, occasion, north-american, low-protein, healthy, soups-stews, vegetables, american, fall, low-fat, vegan, vegetarian, stove-top, dietary, low-sodium, low-cholesterol, seasonal, low-saturated-fat, low-calorie, low-carb, healthy-2, low-in-something, equipment]   \n",
       "32525                                                                                [time-to-make, course, main-ingredient, cuisine, preparation, occasion, north-american, main-dish, soups-stews, vegetables, american, vegetarian, winter, dietary, seasonal, comfort-food, inexpensive, squash, taste-mood, presentation, served-hot, 4-hours-or-less]   \n",
       "38856                                                                                                   [60-minutes-or-less, time-to-make, course, main-ingredient, cuisine, preparation, occasion, north-american, soups-stews, eggs-dairy, vegetables, american, european, dinner-party, vegetarian, cheese, dietary, northeastern-united-states, squash]   \n",
       "139096                                                                                                                                                [weeknight, time-to-make, course, main-ingredient, cuisine, preparation, north-american, soups-stews, vegetables, american, oven, vegetarian, stove-top, dietary, squash, equipment, 4-hours-or-less]   \n",
       "\n",
       "                                          nutrition  n_steps  \\\n",
       "210378    [288.9, 25.0, 44.0, 2.0, 9.0, 53.0, 12.0]        8   \n",
       "10930      [190.4, 3.0, 73.0, 11.0, 7.0, 2.0, 14.0]        5   \n",
       "32525    [327.6, 24.0, 43.0, 25.0, 9.0, 16.0, 16.0]       14   \n",
       "38856    [260.4, 20.0, 20.0, 7.0, 16.0, 41.0, 10.0]       12   \n",
       "139096  [413.2, 24.0, 114.0, 25.0, 9.0, 16.0, 23.0]       14   \n",
       "\n",
       "                                                                                                                                                                                                                                                                                                                                                                                                                  steps  \\\n",
       "210378  ['peel the squash , remove seeds and cut into large cubes together with the carrot', 'heat the oil and cook the onione with garlic and ginger until soft , but not browned', 'add the squash , carrots and lemongrass , just cover with vegetable stock , bring to boil and cook on low power until squash is tender', 'add the mango and chilli sometime during the cooking', 'add the coconut milk and cur...   \n",
       "10930        ['cook the squash-i boil it for this recipe and use the broth in place of the water called for', 'saute the chopped onion in the oil with the spices and bay until onion is translucent', 'add the carrot and celery and the squash water', 'cover and simmer until carots are tender', 'remove bay leaves puree the veg and squash , whisk in juices return to a simmer , taste and add salt and pepper']   \n",
       "32525   ['preheat the oven to 400f', 'brush the bottom of a baking pan with olive oil and set aside', 'cut the squash through the stem ends into halves , prick the skin in several places , and scoop out the seeds', 'brush the cut surfaces with about a tablespoon of the olive oil', 'put the garlic inside the squash cavities and place halves in the pan cut side down', 'add the onions to the pan and brus...   \n",
       "38856   ['in a large saucepan , combine squash and broth', 'bring to a boil and reduce heat to medium', 'simmer until squash is vry tender , about 20 minutes', 'remove from the heat and let stand until warm , then puree in batches in the blender', 'return the puree to the saucepan and place over medium low heat', 'stir in the sour cream , cheddar , butter and cayenne', 'season with salt and pepper', '...   \n",
       "139096  ['preheat the oven to 400f', 'brush the bottom of a baking pan with olive oil and set aside', 'cut the squash through the stem ends into halves , prick the skin in several places with a knife , and scoop out the seeds with a spoon', 'brush the cut surfaces with about a tablespoon of the olive oil', 'put the garlic inside the squash cavities and place halves in the pan cut side down', 'add the ...   \n",
       "\n",
       "                                                                                                                                                                                                                                                                                                                                                                                                            description  \\\n",
       "210378  this is my first recipe in zaar and a variation on a recipe from lisa connely (recipe #38904). i liked the original, but decided to tweak it to improve the thainess factor and make it both sweeter and hotter at the same time. the result was oh so good, now this is going to be the butternut squash soup for me for ever!\\r\\n\\r\\nthe carrots are there mostly for the added colour and mango for the s...   \n",
       "10930                                                                                                                                                                                                                                                                                                                                                       another great recipe from \"sundays at moosewood restaurant\"   \n",
       "32525                                                                                                                                                                                                                                                                                                                                                                          adapted from moosewood restaurant recipe   \n",
       "38856                                                                                                                                                                                                                  adapted from the cabot cheese folks, this is a lightened up version of the delicious cheddar butternut squash soup. russians use a lot of sour cream, so i have put this in my russian cookbook!   \n",
       "139096                                                                                                                                                                                                                                                                                      this golden soup has a tantalizing aroma and a light crunch from the sage leaves. from the moosewood restaurant in new york   \n",
       "\n",
       "                                                                                                                                                                                        ingredients  \\\n",
       "210378  ['butternut squash', 'onion', 'garlic cloves', 'fresh ginger', 'carrots', 'mango', 'oil', 'vegetable stock', 'coconut milk', 'curry powder', 'lemongrass', 'chili pepper', 'salt', 'sugar']   \n",
       "10930     ['butternut squash', 'onion', 'vegetable oil', 'nutmeg', 'cinnamon', 'thyme', 'bay leaves', 'carrot', 'celery', 'water', 'tomato soup', 'apple juice', 'orange juice', 'salt and pepper']   \n",
       "32525                     ['olive oil', 'butternut squash', 'garlic cloves', 'onions', 'water', 'vegetable stock', 'dried thyme', 'ground nutmeg', 'salt', 'pepper', 'butter', 'fresh sage leaves']   \n",
       "38856                                    ['butternut squash', 'vegetable broth', 'light sour cream', 'light cheddar cheese', 'butter', 'cayenne pepper', 'salt', 'pepper', 'brown sugar', 'chives']   \n",
       "139096                ['olive oil', 'butternut squash', 'garlic cloves', 'spanish onions', 'water', 'apple juice', 'dried thyme', 'ground nutmeg', 'salt', 'pepper', 'butter', 'fresh sage leaves']   \n",
       "\n",
       "        n_ingredients  \\\n",
       "210378             14   \n",
       "10930              14   \n",
       "32525              12   \n",
       "38856              10   \n",
       "139096             12   \n",
       "\n",
       "                                                                                                                                                        mod_ingredients  \\\n",
       "210378  [butternut squash, onion, garlic cloves, fresh ginger, carrots, mango, oil, vegetable stock, coconut milk, curry powder, lemongrass, chili pepper, salt, sugar]   \n",
       "10930        [butternut squash, onion, vegetable oil, nutmeg, cinnamon, thyme, bay leaves, carrot, celery, water, tomato soup, apple juice, orange juice, salt, pepper]   \n",
       "32525                 [olive oil, butternut squash, garlic cloves, onions, water, vegetable stock, dried thyme, ground nutmeg, salt, pepper, butter, fresh sage leaves]   \n",
       "38856                            [butternut squash, vegetable broth, light sour cream, light cheddar cheese, butter, cayenne pepper, salt, pepper, brown sugar, chives]   \n",
       "139096            [olive oil, butternut squash, garlic cloves, spanish onions, water, apple juice, dried thyme, ground nutmeg, salt, pepper, butter, fresh sage leaves]   \n",
       "\n",
       "         veg                                     ratings  avg_rating  \\\n",
       "210378  True                                      [5, 5]    5.000000   \n",
       "10930   True                                         [4]    4.000000   \n",
       "32525   True                                         [5]    5.000000   \n",
       "38856   True                                [5, 5, 4, 5]    4.750000   \n",
       "139096  True  [5, 5, 5, 5, 4, 3, 4, 5, 5, 5, 5, 5, 5, 5]    4.714286   \n",
       "\n",
       "        n_ratings  ingredient_score  overall_score  \n",
       "210378          2          0.149002      17.700184  \n",
       "10930           1          0.148380      16.937951  \n",
       "32525           1          0.132813      15.681332  \n",
       "38856           4          0.128413      15.391274  \n",
       "139096         14          0.132186      15.332837  "
      ]
     },
     "execution_count": 85,
     "metadata": {},
     "output_type": "execute_result"
    }
   ],
   "source": [
    "#recipe_list.sort_values(by = 'overall_score', ascending=False)\n",
    "recipe_list.nlargest(5, 'overall_score')"
   ]
  },
  {
   "cell_type": "code",
   "execution_count": 97,
   "metadata": {},
   "outputs": [],
   "source": [
    "def show_top_recipes(recipe_list):\n",
    "    html = 'https://www.food.com/recipe/'\n",
    "    common_ingredients = recipe_list['mod_ingredients'].explode().value_counts()\n",
    "    squarify.plot(sizes=common_ingredients[:15], label=common_ingredients.index[:15], alpha=.5 )\n",
    "    plt.axis('off')\n",
    "    plt.show()\n",
    "    top_5 = recipe_list.nlargest(5, 'overall_score').copy()\n",
    "    top_5['recipe_link'] = [f'https://www.food.com/recipe/{ing_id}' for ing_id in top_5['id']]\n",
    "    return top_5[['name','id','recipe_link']]\n"
   ]
  },
  {
   "cell_type": "code",
   "execution_count": 98,
   "metadata": {},
   "outputs": [
    {
     "data": {
      "image/png": "[encoded data removed]",
      "text/plain": [
       "<Figure size 432x288 with 1 Axes>"
      ]
     },
     "metadata": {
      "needs_background": "light"
     },
     "output_type": "display_data"
    },
    {
     "data": {
      "text/html": [
       "<div>\n",
       "<style scoped>\n",
       "    .dataframe tbody tr th:only-of-type {\n",
       "        vertical-align: middle;\n",
       "    }\n",
       "\n",
       "    .dataframe tbody tr th {\n",
       "        vertical-align: top;\n",
       "    }\n",
       "\n",
       "    .dataframe thead th {\n",
       "        text-align: right;\n",
       "    }\n",
       "</style>\n",
       "<table border=\"1\" class=\"dataframe\">\n",
       "  <thead>\n",
       "    <tr style=\"text-align: right;\">\n",
       "      <th></th>\n",
       "      <th>name</th>\n",
       "      <th>id</th>\n",
       "      <th>recipe_link</th>\n",
       "    </tr>\n",
       "  </thead>\n",
       "  <tbody>\n",
       "    <tr>\n",
       "      <th>210378</th>\n",
       "      <td>thai butternut squash soup</td>\n",
       "      <td>286216</td>\n",
       "      <td>https://www.food.com/recipe/286216</td>\n",
       "    </tr>\n",
       "    <tr>\n",
       "      <th>10930</th>\n",
       "      <td>autumn gold butternut squash soup</td>\n",
       "      <td>11636</td>\n",
       "      <td>https://www.food.com/recipe/11636</td>\n",
       "    </tr>\n",
       "    <tr>\n",
       "      <th>32525</th>\n",
       "      <td>butternut squash soup with vegetable stock</td>\n",
       "      <td>226765</td>\n",
       "      <td>https://www.food.com/recipe/226765</td>\n",
       "    </tr>\n",
       "    <tr>\n",
       "      <th>38856</th>\n",
       "      <td>cheddar butternut squash soup  lightened up</td>\n",
       "      <td>174955</td>\n",
       "      <td>https://www.food.com/recipe/174955</td>\n",
       "    </tr>\n",
       "    <tr>\n",
       "      <th>139096</th>\n",
       "      <td>moosewood s butternut squash soup with sage</td>\n",
       "      <td>19650</td>\n",
       "      <td>https://www.food.com/recipe/19650</td>\n",
       "    </tr>\n",
       "  </tbody>\n",
       "</table>\n",
       "</div>"
      ],
      "text/plain": [
       "                                               name      id  \\\n",
       "210378                   thai butternut squash soup  286216   \n",
       "10930             autumn gold butternut squash soup   11636   \n",
       "32525    butternut squash soup with vegetable stock  226765   \n",
       "38856   cheddar butternut squash soup  lightened up  174955   \n",
       "139096  moosewood s butternut squash soup with sage   19650   \n",
       "\n",
       "                               recipe_link  \n",
       "210378  https://www.food.com/recipe/286216  \n",
       "10930    https://www.food.com/recipe/11636  \n",
       "32525   https://www.food.com/recipe/226765  \n",
       "38856   https://www.food.com/recipe/174955  \n",
       "139096   https://www.food.com/recipe/19650  "
      ]
     },
     "execution_count": 98,
     "metadata": {},
     "output_type": "execute_result"
    }
   ],
   "source": [
    "show_top_recipes(recipe_list)"
   ]
  },
  {
   "cell_type": "code",
   "execution_count": null,
   "metadata": {},
   "outputs": [],
   "source": []
  }
 ],
 "metadata": {
  "kernelspec": {
   "display_name": "Python 3",
   "language": "python",
   "name": "python3"
  },
  "language_info": {
   "codemirror_mode": {
    "name": "ipython",
    "version": 3
   },
   "file_extension": ".py",
   "mimetype": "text/x-python",
   "name": "python",
   "nbconvert_exporter": "python",
   "pygments_lexer": "ipython3",
   "version": "3.8.3"
  }
 },
 "nbformat": 4,
 "nbformat_minor": 4
}
