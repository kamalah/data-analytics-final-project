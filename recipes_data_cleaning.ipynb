{
 "cells": [
  {
   "cell_type": "code",
   "execution_count": 1,
   "metadata": {},
   "outputs": [],
   "source": [
    "import numpy as np\n",
    "import pandas as pd\n",
    "import matplotlib.pyplot as plt\n",
    "import seaborn as sns\n",
    "from ast import literal_eval\n",
    "import statistics\n",
    "import nltk\n",
    "import re\n",
    "from scipy import stats\n",
    "from venn import venn\n",
    "import matplotlib\n",
    "import squarify  \n",
    "import inflect\n",
    "%matplotlib inline\n"
   ]
  },
  {
   "cell_type": "code",
   "execution_count": 2,
   "metadata": {},
   "outputs": [],
   "source": [
    "from nltk.stem.snowball import SnowballStemmer\n",
    "from nltk.stem.regexp import RegexpStemmer\n",
    "#nltk.download('punkt')\n",
    "#nltk.download('averaged_perceptron_tagger')"
   ]
  },
  {
   "cell_type": "code",
   "execution_count": 3,
   "metadata": {},
   "outputs": [],
   "source": [
    "pd.set_option('max_colwidth', 400)"
   ]
  },
  {
   "cell_type": "code",
   "execution_count": 4,
   "metadata": {},
   "outputs": [],
   "source": [
    "def and_split(ingredient_list):\n",
    "    \"\"\"\n",
    "    Inputs: List of ingredients (with possible \"and\" or \"&\")\n",
    "    Output: List with ingredient list updated to remove \"and\" or \"&\" and list as separate items\n",
    "    \n",
    "    example: and_split(['turkey','green pepper','salt & freshly ground black pepper'])\n",
    "            ['turkey', 'green pepper', 'salt', 'freshly ground black pepper']\n",
    "    \"\"\"\n",
    "    return list(np.concatenate([re.split(' and | & ', ingredient) \\\n",
    "                                for ingredient in ingredient_list]).flat)"
   ]
  },
  {
   "cell_type": "code",
   "execution_count": 34,
   "metadata": {},
   "outputs": [],
   "source": [
    "def make_singular(ingredient_list):\n",
    "    \"\"\"\n",
    "    Inputs: List of ingredients \n",
    "    Output: List with ingredient list updated to make everything singular\n",
    "    \n",
    "    example:make_singular([\"carrots\", \"eggs\",\"milk\"])\n",
    "            returns ['carrot', 'egg', 'milk']\n",
    "    \"\"\"\n",
    "    #edge case for couscous needs to be checked, berries, tomatoes\n",
    "    #stemmer = SnowballStemmer(\"english\")\n",
    "    #stemmer = RegexpStemmer('s$|ies$') \n",
    "    p = inflect.engine()\n",
    "    return [p.singular_noun(word) if p.singular_noun(word) else word for word in ingredient_list]"
   ]
  },
  {
   "cell_type": "code",
   "execution_count": 41,
   "metadata": {},
   "outputs": [],
   "source": [
    "def remove_adj(ingredient_list):\n",
    "    \"\"\"\n",
    "    Inputs: List of ingredients \n",
    "    Output: List with ingredient list updated to remove extra adjectives:\n",
    "            ['fresh', 'ground', 'dried', 'all-purpose']\n",
    "    example:remove_adj(['fresh ground pepper', 'fresh parsley', 'dried parsley','all-purpose flour'])\n",
    "            returns ['pepper', 'parsley', 'parsley', 'flour']    \n",
    "    \"\"\"\n",
    "    \n",
    "    adj_list =  \"|\".join(['fresh','chopped','canned','baby' 'raw','frozen','whole', 'stewed',\\\n",
    "                          'ground','granulated', 'dried', 'all-purpose','granulated',\\\n",
    "                          'unsalted','salted', 'extra virgin', 'ripe','sauce','diced', 'crushed'])\n",
    "    return [re.sub(adj_list,'', ingredient).strip() for ingredient in ingredient_list]    "
   ]
  },
  {
   "cell_type": "code",
   "execution_count": 7,
   "metadata": {},
   "outputs": [],
   "source": [
    "def check_subsitutions(sub_list, ingredient):\n",
    "    new_ingredient = ingredient\n",
    "    for word in sub_list:\n",
    "        check = re.search(word, ingredient, re.IGNORECASE)\n",
    "        new_ingredient = check.group(1) if check else new_ingredient\n",
    "    return new_ingredient\n",
    "\n",
    "def substitutions(ingredient_list):\n",
    "    \"\"\"\n",
    "    Inputs: List of ingredients \n",
    "    Output: List with ingredient with common subsitituions \n",
    "    example: substitutions(['garlic cloves', 'herb and salt spice mix',  'low fat firm tofu', 'whole milk' ])\n",
    "            returns ['garlic', 'spice', 'tofu', 'milk']    \n",
    "    \"\"\"\n",
    "    sub_list = ['(garlic)', '(flour)','(yogurt)','(spice)', '(oil)','(tofu)', '(milk)', '(vinegar)',\\\n",
    "                '(butter)', '(rice)', '(cheese)', '(juice)', '(syrup)', '(soup)','(tortilla)', '(yam)']\n",
    "    return [check_subsitutions(sub_list, ingredient) for ingredient in ingredient_list]\n",
    "    #return [ingredient.extract(pat = r'(\"garlic\")') for ingredient in ingredient_list]"
   ]
  },
  {
   "cell_type": "code",
   "execution_count": 8,
   "metadata": {},
   "outputs": [],
   "source": [
    "recipes = pd.read_csv('data/large_data/RAW_recipes.csv')"
   ]
  },
  {
   "cell_type": "code",
   "execution_count": 9,
   "metadata": {},
   "outputs": [],
   "source": [
    "recipes['tags'] = recipes['tags'].apply(literal_eval)"
   ]
  },
  {
   "cell_type": "code",
   "execution_count": 10,
   "metadata": {},
   "outputs": [],
   "source": [
    "tag_dist = recipes['tags'].explode().value_counts()\n",
    "tag_list = recipes['tags'].explode().unique()"
   ]
  },
  {
   "cell_type": "code",
   "execution_count": 42,
   "metadata": {},
   "outputs": [],
   "source": [
    "recipes['mod_ingredients'] = recipes['ingredients'].apply(literal_eval).apply(and_split).apply(make_singular).apply(substitutions).apply(remove_adj)"
   ]
  },
  {
   "cell_type": "code",
   "execution_count": 43,
   "metadata": {},
   "outputs": [],
   "source": [
    "def get_ingredient_frequency(recipes):\n",
    "    full_ingredient_list = recipes['mod_ingredients'].explode()\n",
    "    ingredient_freq = full_ingredient_list.value_counts()\n",
    "    ingredient_freq = ingredient_freq.loc[ingredient_freq > 100]\n",
    "    ingredient_freq  = ingredient_freq/sum(ingredient_freq)\n",
    "    return ingredient_freq"
   ]
  },
  {
   "cell_type": "code",
   "execution_count": 44,
   "metadata": {},
   "outputs": [],
   "source": [
    "ingredient_freq = get_ingredient_frequency(recipes)"
   ]
  },
  {
   "cell_type": "code",
   "execution_count": 14,
   "metadata": {},
   "outputs": [],
   "source": [
    "ingredient_freq.to_csv('data/ingredient_freq.csv')"
   ]
  },
  {
   "cell_type": "code",
   "execution_count": 45,
   "metadata": {},
   "outputs": [
    {
     "data": {
      "text/plain": [
       "salt      0.053574\n",
       "oil       0.042744\n",
       "butter    0.038875\n",
       "cheese    0.037848\n",
       "garlic    0.035801\n",
       "flour     0.028932\n",
       "egg       0.025376\n",
       "sugar     0.025239\n",
       "onion     0.024821\n",
       "juice     0.022387\n",
       "pepper    0.022264\n",
       "milk      0.021579\n",
       "water     0.017357\n",
       "Name: mod_ingredients, dtype: float64"
      ]
     },
     "execution_count": 45,
     "metadata": {},
     "output_type": "execute_result"
    }
   ],
   "source": [
    "ingredient_freq.loc[np.abs(stats.zscore(ingredient_freq)) > 4]\n",
    "#ingredient_freq.quantile(.50)"
   ]
  },
  {
   "cell_type": "code",
   "execution_count": 16,
   "metadata": {},
   "outputs": [
    {
     "data": {
      "text/plain": [
       "0.0006646137927260607"
      ]
     },
     "execution_count": 16,
     "metadata": {},
     "output_type": "execute_result"
    }
   ],
   "source": [
    "ingredient_freq.loc['peanut']"
   ]
  },
  {
   "cell_type": "code",
   "execution_count": 46,
   "metadata": {},
   "outputs": [
    {
     "data": {
      "text/plain": [
       "tomato                       0.012358\n",
       "tomato paste                 0.002154\n",
       "cherry tomato                0.000820\n",
       "plum tomato                  0.000739\n",
       "roma tomato                  0.000541\n",
       "sun- tomato                  0.000500\n",
       "stewed tomato                0.000441\n",
       "tomato puree                 0.000352\n",
       "grape tomato                 0.000288\n",
       "rotel tomato                 0.000206\n",
       "tomato ketchup               0.000092\n",
       "tomato with green chilies    0.000082\n",
       "green tomato                 0.000071\n",
       "italian tomato               0.000069\n",
       "italian plum tomato          0.000068\n",
       "italian-style  tomato        0.000064\n",
       "Name: mod_ingredients, dtype: float64"
      ]
     },
     "execution_count": 46,
     "metadata": {},
     "output_type": "execute_result"
    }
   ],
   "source": [
    "ingredient_freq.filter(like=\"tomato\", axis = 0)"
   ]
  },
  {
   "cell_type": "code",
   "execution_count": 49,
   "metadata": {},
   "outputs": [
    {
     "data": {
      "text/plain": [
       "0             winter squash\n",
       "0         mexican seasoning\n",
       "0                     spice\n",
       "0                     honey\n",
       "0                    butter\n",
       "              ...          \n",
       "9               baking soda\n",
       "9                      salt\n",
       "10    berry cranberry sauce\n",
       "10               sour cream\n",
       "10     prepared horseradish\n",
       "Name: mod_ingredients, Length: 100, dtype: object"
      ]
     },
     "execution_count": 49,
     "metadata": {},
     "output_type": "execute_result"
    }
   ],
   "source": [
    "full_ingredient_list[:100]"
   ]
  },
  {
   "cell_type": "code",
   "execution_count": 19,
   "metadata": {},
   "outputs": [],
   "source": [
    "recipes[\"veg\"] = [(\"vegan\" in tag_list) or (\"vegetarian\" in tag_list) for tag_list in recipes[\"tags\"]]"
   ]
  },
  {
   "cell_type": "code",
   "execution_count": 20,
   "metadata": {},
   "outputs": [],
   "source": [
    "interactions = pd.read_csv('data/large_data/RAW_interactions.csv')"
   ]
  },
  {
   "cell_type": "code",
   "execution_count": 21,
   "metadata": {},
   "outputs": [],
   "source": [
    "recipes['ratings'] = [list(interactions[interactions['recipe_id'] == rec_id]['rating'])  for rec_id in recipes['id'] ]"
   ]
  },
  {
   "cell_type": "code",
   "execution_count": 22,
   "metadata": {},
   "outputs": [],
   "source": [
    "recipes['n_ratings'] = recipes['ratings'].map(len)"
   ]
  },
  {
   "cell_type": "code",
   "execution_count": 23,
   "metadata": {},
   "outputs": [],
   "source": [
    "recipes['avg_rating'] = recipes['ratings'].map(statistics.mean)"
   ]
  },
  {
   "cell_type": "code",
   "execution_count": null,
   "metadata": {},
   "outputs": [],
   "source": [
    "recipes.dropna(subset = ['name'], inplace = True)"
   ]
  },
  {
   "cell_type": "code",
   "execution_count": 25,
   "metadata": {},
   "outputs": [],
   "source": [
    "recipes.to_csv('data/large_data/recipes.csv', index = False)"
   ]
  },
  {
   "cell_type": "code",
   "execution_count": null,
   "metadata": {},
   "outputs": [],
   "source": [
    "veg_recipes = recipes[recipes[\"veg\"]].copy()"
   ]
  },
  {
   "cell_type": "code",
   "execution_count": null,
   "metadata": {},
   "outputs": [],
   "source": [
    "veg_recipes['ratings'] = [list(interactions[interactions['recipe_id'] == rec_id]['rating'])  for rec_id in veg_recipes['id'] ]"
   ]
  },
  {
   "cell_type": "code",
   "execution_count": null,
   "metadata": {},
   "outputs": [],
   "source": [
    "veg_recipes['avg_rating'] = veg_recipes['ratings'].map(statistics.mean)"
   ]
  },
  {
   "cell_type": "code",
   "execution_count": null,
   "metadata": {},
   "outputs": [],
   "source": [
    "veg_recipes['n_ratings'] = veg_recipes['ratings'].map(len)"
   ]
  },
  {
   "cell_type": "code",
   "execution_count": null,
   "metadata": {},
   "outputs": [],
   "source": [
    "veg_recipes[veg_recipes['n_ratings'] > 10].describe()"
   ]
  },
  {
   "cell_type": "code",
   "execution_count": null,
   "metadata": {},
   "outputs": [],
   "source": [
    "veg_recipes['mod_ingredients'] = veg_recipes['ingredients'].apply(literal_eval).apply(and_split)"
   ]
  },
  {
   "cell_type": "code",
   "execution_count": null,
   "metadata": {},
   "outputs": [],
   "source": [
    "veg_recipes[['mod_ingredients']]\n",
    "#veg_recipes[['ingredients']]"
   ]
  },
  {
   "cell_type": "code",
   "execution_count": null,
   "metadata": {},
   "outputs": [],
   "source": [
    "search_phrase = \"butternut squash soup\"\n",
    "search_words = search_phrase.split(\" \")\n",
    "search_words = \"|\".join(\"^{}$\".format(word) for word in search_words)"
   ]
  },
  {
   "cell_type": "code",
   "execution_count": null,
   "metadata": {},
   "outputs": [],
   "source": [
    "recipe_list = veg_recipes.loc[veg_recipes['name'].str.contains(search_phrase, case=False)].copy()"
   ]
  },
  {
   "cell_type": "code",
   "execution_count": null,
   "metadata": {},
   "outputs": [],
   "source": [
    "recipe_list.describe()"
   ]
  },
  {
   "cell_type": "code",
   "execution_count": null,
   "metadata": {},
   "outputs": [],
   "source": [
    "common_ingredients = recipe_list['mod_ingredients'].explode().value_counts()"
   ]
  },
  {
   "cell_type": "code",
   "execution_count": null,
   "metadata": {},
   "outputs": [],
   "source": [
    "common_ingredients.filter(like = \"pepper\", axis = 0)"
   ]
  },
  {
   "cell_type": "code",
   "execution_count": null,
   "metadata": {},
   "outputs": [],
   "source": [
    "veg_recipes['ingredients']"
   ]
  },
  {
   "cell_type": "code",
   "execution_count": null,
   "metadata": {},
   "outputs": [],
   "source": [
    "musicians = {\n",
    "    \"Members of The Beatles\": {\"Paul McCartney\", \"John Lennon\", \"George Harrison\", \"Ringo Starr\"},\n",
    "    \"Guitarists\": {\"John Lennon\", \"George Harrison\", \"Jimi Hendrix\", \"Eric Clapton\", \"Carlos Santana\"},\n",
    "    \"Played at Woodstock\": {\"Jimi Hendrix\", \"Carlos Santana\", \"Keith Moon\"}\n",
    "}\n",
    "venn(musicians)"
   ]
  },
  {
   "cell_type": "code",
   "execution_count": null,
   "metadata": {},
   "outputs": [],
   "source": [
    "recipe_list['ingredient_score'] = recipe_list['mod_ingredients'].apply(calc_ingredient_ratings)"
   ]
  },
  {
   "cell_type": "code",
   "execution_count": null,
   "metadata": {},
   "outputs": [],
   "source": [
    "def calc_ingredient_ratings(ingredient_list, ingredient_freq= ingredient_freq):\n",
    "    #print(ingredient_list) \n",
    "    rating = 0\n",
    "    for ingredient in ingredient_list:\n",
    "        try:\n",
    "            freq = ingredient_freq.loc[ingredient]\n",
    "        except:\n",
    "            freq = 0\n",
    "        rating += freq\n",
    "    return rating\n",
    "    \n",
    "calc_ingredient_ratings(['salt','butter','pepper','shoe'])"
   ]
  },
  {
   "cell_type": "code",
   "execution_count": null,
   "metadata": {},
   "outputs": [],
   "source": [
    "recipe_list.describe()"
   ]
  },
  {
   "cell_type": "code",
   "execution_count": null,
   "metadata": {},
   "outputs": [],
   "source": [
    "recipe_list['overall_score'] = 1/recipe_list['minutes'] + recipe_list['avg_rating'] + recipe_list['ingredient_score']*100 - recipe_list['n_steps']/10 - recipe_list['n_ingredients']/10"
   ]
  },
  {
   "cell_type": "code",
   "execution_count": null,
   "metadata": {},
   "outputs": [],
   "source": [
    "#recipe_list.sort_values(by = 'overall_score', ascending=False)\n",
    "recipe_list.nlargest(5, 'overall_score')"
   ]
  },
  {
   "cell_type": "code",
   "execution_count": null,
   "metadata": {},
   "outputs": [],
   "source": [
    "def show_top_recipes(recipe_list):\n",
    "    html = 'https://www.food.com/recipe/'\n",
    "    common_ingredients = recipe_list['mod_ingredients'].explode().value_counts()\n",
    "    cmap = matplotlib.cm.Blues\n",
    "    norm = matplotlib.colors.Normalize(vmin=min(common_ingredients), vmax=max(common_ingredients))\n",
    "    colors = [cmap(norm(value)) for value in common_ingredients]\n",
    "    squarify.plot(sizes=common_ingredients[:10], label=common_ingredients.index[:10], alpha=.5, text_kwargs={\"wrap\": True})\n",
    "    plt.axis('off')\n",
    "    plt.show()\n",
    "    top_5 = recipe_list.nlargest(5, 'overall_score').copy()\n",
    "    top_5['recipe_link'] = [f'https://www.food.com/recipe/{ing_id}' for ing_id in top_5['id']]\n",
    "    return top_5[['name','id','overall_score','recipe_link']]\n"
   ]
  },
  {
   "cell_type": "code",
   "execution_count": 35,
   "metadata": {},
   "outputs": [
    {
     "data": {
      "text/plain": [
       "['christma', 'milk', 'tree', 'couscou']"
      ]
     },
     "execution_count": 35,
     "metadata": {},
     "output_type": "execute_result"
    }
   ],
   "source": [
    "make_singular(['christmas','milk','trees','couscous'])"
   ]
  },
  {
   "cell_type": "code",
   "execution_count": null,
   "metadata": {},
   "outputs": [],
   "source": []
  }
 ],
 "metadata": {
  "kernelspec": {
   "display_name": "Python 3",
   "language": "python",
   "name": "python3"
  },
  "language_info": {
   "codemirror_mode": {
    "name": "ipython",
    "version": 3
   },
   "file_extension": ".py",
   "mimetype": "text/x-python",
   "name": "python",
   "nbconvert_exporter": "python",
   "pygments_lexer": "ipython3",
   "version": "3.8.3"
  }
 },
 "nbformat": 4,
 "nbformat_minor": 4
}
