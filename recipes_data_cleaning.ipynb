{
 "cells": [
  {
   "cell_type": "code",
   "execution_count": 1,
   "metadata": {},
   "outputs": [],
   "source": [
    "import numpy as np\n",
    "import pandas as pd\n",
    "import matplotlib.pyplot as plt\n",
    "import seaborn as sns\n",
    "from ast import literal_eval\n",
    "import statistics"
   ]
  },
  {
   "cell_type": "code",
   "execution_count": 2,
   "metadata": {},
   "outputs": [],
   "source": [
    "recipes = pd.read_csv('data/large_data/RAW_recipes.csv')"
   ]
  },
  {
   "cell_type": "code",
   "execution_count": 3,
   "metadata": {},
   "outputs": [],
   "source": [
    "recipes['tags'] = recipes['tags'].apply(literal_eval)"
   ]
  },
  {
   "cell_type": "code",
   "execution_count": 4,
   "metadata": {},
   "outputs": [],
   "source": [
    "tag_dist = recipes['tags'].explode().value_counts()\n",
    "tag_list = recipes['tags'].explode().unique()"
   ]
  },
  {
   "cell_type": "code",
   "execution_count": 5,
   "metadata": {},
   "outputs": [],
   "source": [
    "recipes[\"veg\"] = [(\"vegan\" in tag_list) or (\"vegetarian\" in tag_list) for tag_list in recipes[\"tags\"]]"
   ]
  },
  {
   "cell_type": "code",
   "execution_count": 6,
   "metadata": {},
   "outputs": [],
   "source": [
    "veg_recipes = recipes[recipes[\"veg\"]].copy()"
   ]
  },
  {
   "cell_type": "code",
   "execution_count": 7,
   "metadata": {},
   "outputs": [],
   "source": [
    "interactions = pd.read_csv('data/large_data/RAW_interactions.csv')"
   ]
  },
  {
   "cell_type": "code",
   "execution_count": 8,
   "metadata": {},
   "outputs": [],
   "source": [
    "veg_recipes['ratings'] = [list(interactions[interactions['recipe_id'] == rec_id]['rating'])  for rec_id in veg_recipes['id'] ]"
   ]
  },
  {
   "cell_type": "code",
   "execution_count": 9,
   "metadata": {},
   "outputs": [],
   "source": [
    "veg_recipes['avg_rating'] = veg_recipes['ratings'].map(statistics.mean)"
   ]
  },
  {
   "cell_type": "code",
   "execution_count": 10,
   "metadata": {},
   "outputs": [],
   "source": [
    "veg_recipes['n_ratings'] = veg_recipes['ratings'].map(len)"
   ]
  },
  {
   "cell_type": "code",
   "execution_count": 11,
   "metadata": {},
   "outputs": [
    {
     "data": {
      "text/html": [
       "<div>\n",
       "<style scoped>\n",
       "    .dataframe tbody tr th:only-of-type {\n",
       "        vertical-align: middle;\n",
       "    }\n",
       "\n",
       "    .dataframe tbody tr th {\n",
       "        vertical-align: top;\n",
       "    }\n",
       "\n",
       "    .dataframe thead th {\n",
       "        text-align: right;\n",
       "    }\n",
       "</style>\n",
       "<table border=\"1\" class=\"dataframe\">\n",
       "  <thead>\n",
       "    <tr style=\"text-align: right;\">\n",
       "      <th></th>\n",
       "      <th>id</th>\n",
       "      <th>minutes</th>\n",
       "      <th>contributor_id</th>\n",
       "      <th>n_steps</th>\n",
       "      <th>n_ingredients</th>\n",
       "      <th>avg_rating</th>\n",
       "      <th>n_ratings</th>\n",
       "    </tr>\n",
       "  </thead>\n",
       "  <tbody>\n",
       "    <tr>\n",
       "      <th>count</th>\n",
       "      <td>3128.000000</td>\n",
       "      <td>3128.000000</td>\n",
       "      <td>3.128000e+03</td>\n",
       "      <td>3128.000000</td>\n",
       "      <td>3128.000000</td>\n",
       "      <td>3128.000000</td>\n",
       "      <td>3128.000000</td>\n",
       "    </tr>\n",
       "    <tr>\n",
       "      <th>mean</th>\n",
       "      <td>142169.992967</td>\n",
       "      <td>79.190217</td>\n",
       "      <td>1.624612e+05</td>\n",
       "      <td>8.831841</td>\n",
       "      <td>8.501918</td>\n",
       "      <td>4.460244</td>\n",
       "      <td>28.839834</td>\n",
       "    </tr>\n",
       "    <tr>\n",
       "      <th>std</th>\n",
       "      <td>110971.657708</td>\n",
       "      <td>500.792949</td>\n",
       "      <td>2.163368e+05</td>\n",
       "      <td>5.544758</td>\n",
       "      <td>3.650987</td>\n",
       "      <td>0.411377</td>\n",
       "      <td>43.603142</td>\n",
       "    </tr>\n",
       "    <tr>\n",
       "      <th>min</th>\n",
       "      <td>62.000000</td>\n",
       "      <td>0.000000</td>\n",
       "      <td>2.700000e+01</td>\n",
       "      <td>1.000000</td>\n",
       "      <td>2.000000</td>\n",
       "      <td>1.764706</td>\n",
       "      <td>11.000000</td>\n",
       "    </tr>\n",
       "    <tr>\n",
       "      <th>25%</th>\n",
       "      <td>50842.750000</td>\n",
       "      <td>17.000000</td>\n",
       "      <td>3.744900e+04</td>\n",
       "      <td>5.000000</td>\n",
       "      <td>6.000000</td>\n",
       "      <td>4.266667</td>\n",
       "      <td>13.000000</td>\n",
       "    </tr>\n",
       "    <tr>\n",
       "      <th>50%</th>\n",
       "      <td>117433.500000</td>\n",
       "      <td>31.000000</td>\n",
       "      <td>7.132400e+04</td>\n",
       "      <td>8.000000</td>\n",
       "      <td>8.000000</td>\n",
       "      <td>4.538462</td>\n",
       "      <td>17.000000</td>\n",
       "    </tr>\n",
       "    <tr>\n",
       "      <th>75%</th>\n",
       "      <td>204854.750000</td>\n",
       "      <td>58.500000</td>\n",
       "      <td>2.097470e+05</td>\n",
       "      <td>11.000000</td>\n",
       "      <td>11.000000</td>\n",
       "      <td>4.750000</td>\n",
       "      <td>28.000000</td>\n",
       "    </tr>\n",
       "    <tr>\n",
       "      <th>max</th>\n",
       "      <td>512584.000000</td>\n",
       "      <td>20190.000000</td>\n",
       "      <td>2.222923e+06</td>\n",
       "      <td>82.000000</td>\n",
       "      <td>25.000000</td>\n",
       "      <td>5.000000</td>\n",
       "      <td>1220.000000</td>\n",
       "    </tr>\n",
       "  </tbody>\n",
       "</table>\n",
       "</div>"
      ],
      "text/plain": [
       "                  id       minutes  contributor_id      n_steps  \\\n",
       "count    3128.000000   3128.000000    3.128000e+03  3128.000000   \n",
       "mean   142169.992967     79.190217    1.624612e+05     8.831841   \n",
       "std    110971.657708    500.792949    2.163368e+05     5.544758   \n",
       "min        62.000000      0.000000    2.700000e+01     1.000000   \n",
       "25%     50842.750000     17.000000    3.744900e+04     5.000000   \n",
       "50%    117433.500000     31.000000    7.132400e+04     8.000000   \n",
       "75%    204854.750000     58.500000    2.097470e+05    11.000000   \n",
       "max    512584.000000  20190.000000    2.222923e+06    82.000000   \n",
       "\n",
       "       n_ingredients   avg_rating    n_ratings  \n",
       "count    3128.000000  3128.000000  3128.000000  \n",
       "mean        8.501918     4.460244    28.839834  \n",
       "std         3.650987     0.411377    43.603142  \n",
       "min         2.000000     1.764706    11.000000  \n",
       "25%         6.000000     4.266667    13.000000  \n",
       "50%         8.000000     4.538462    17.000000  \n",
       "75%        11.000000     4.750000    28.000000  \n",
       "max        25.000000     5.000000  1220.000000  "
      ]
     },
     "execution_count": 11,
     "metadata": {},
     "output_type": "execute_result"
    }
   ],
   "source": [
    "veg_recipes[veg_recipes['n_ratings'] > 10].describe()"
   ]
  },
  {
   "cell_type": "code",
   "execution_count": 23,
   "metadata": {},
   "outputs": [],
   "source": [
    "search_phrase = \"butternut squash soup\"\n",
    "search_words = search_phrase.split(\" \")\n",
    "search_words = \"|\".join(\"^{}$\".format(word) for word in search_words)"
   ]
  },
  {
   "cell_type": "code",
   "execution_count": 25,
   "metadata": {},
   "outputs": [],
   "source": [
    "recipe_list = veg_recipes.loc[veg_recipes['name'].str.contains(search_phrase, case=False)]"
   ]
  },
  {
   "cell_type": "code",
   "execution_count": 26,
   "metadata": {},
   "outputs": [
    {
     "data": {
      "text/html": [
       "<div>\n",
       "<style scoped>\n",
       "    .dataframe tbody tr th:only-of-type {\n",
       "        vertical-align: middle;\n",
       "    }\n",
       "\n",
       "    .dataframe tbody tr th {\n",
       "        vertical-align: top;\n",
       "    }\n",
       "\n",
       "    .dataframe thead th {\n",
       "        text-align: right;\n",
       "    }\n",
       "</style>\n",
       "<table border=\"1\" class=\"dataframe\">\n",
       "  <thead>\n",
       "    <tr style=\"text-align: right;\">\n",
       "      <th></th>\n",
       "      <th>id</th>\n",
       "      <th>minutes</th>\n",
       "      <th>contributor_id</th>\n",
       "      <th>n_steps</th>\n",
       "      <th>n_ingredients</th>\n",
       "      <th>avg_rating</th>\n",
       "      <th>n_ratings</th>\n",
       "    </tr>\n",
       "  </thead>\n",
       "  <tbody>\n",
       "    <tr>\n",
       "      <th>count</th>\n",
       "      <td>23.000000</td>\n",
       "      <td>23.000000</td>\n",
       "      <td>2.300000e+01</td>\n",
       "      <td>23.000000</td>\n",
       "      <td>23.000000</td>\n",
       "      <td>23.000000</td>\n",
       "      <td>23.000000</td>\n",
       "    </tr>\n",
       "    <tr>\n",
       "      <th>mean</th>\n",
       "      <td>238846.217391</td>\n",
       "      <td>62.913043</td>\n",
       "      <td>4.463659e+05</td>\n",
       "      <td>12.260870</td>\n",
       "      <td>11.217391</td>\n",
       "      <td>4.304743</td>\n",
       "      <td>4.260870</td>\n",
       "    </tr>\n",
       "    <tr>\n",
       "      <th>std</th>\n",
       "      <td>142403.200255</td>\n",
       "      <td>38.257397</td>\n",
       "      <td>5.458591e+05</td>\n",
       "      <td>6.091853</td>\n",
       "      <td>3.789417</td>\n",
       "      <td>0.821696</td>\n",
       "      <td>6.565872</td>\n",
       "    </tr>\n",
       "    <tr>\n",
       "      <th>min</th>\n",
       "      <td>11636.000000</td>\n",
       "      <td>9.000000</td>\n",
       "      <td>3.288000e+03</td>\n",
       "      <td>5.000000</td>\n",
       "      <td>6.000000</td>\n",
       "      <td>2.333333</td>\n",
       "      <td>1.000000</td>\n",
       "    </tr>\n",
       "    <tr>\n",
       "      <th>25%</th>\n",
       "      <td>157662.000000</td>\n",
       "      <td>35.000000</td>\n",
       "      <td>8.702850e+04</td>\n",
       "      <td>7.500000</td>\n",
       "      <td>7.500000</td>\n",
       "      <td>4.000000</td>\n",
       "      <td>1.000000</td>\n",
       "    </tr>\n",
       "    <tr>\n",
       "      <th>50%</th>\n",
       "      <td>226765.000000</td>\n",
       "      <td>48.000000</td>\n",
       "      <td>2.398970e+05</td>\n",
       "      <td>12.000000</td>\n",
       "      <td>11.000000</td>\n",
       "      <td>4.714286</td>\n",
       "      <td>2.000000</td>\n",
       "    </tr>\n",
       "    <tr>\n",
       "      <th>75%</th>\n",
       "      <td>313188.500000</td>\n",
       "      <td>90.000000</td>\n",
       "      <td>5.575435e+05</td>\n",
       "      <td>15.000000</td>\n",
       "      <td>13.500000</td>\n",
       "      <td>5.000000</td>\n",
       "      <td>4.000000</td>\n",
       "    </tr>\n",
       "    <tr>\n",
       "      <th>max</th>\n",
       "      <td>490345.000000</td>\n",
       "      <td>170.000000</td>\n",
       "      <td>2.462143e+06</td>\n",
       "      <td>27.000000</td>\n",
       "      <td>21.000000</td>\n",
       "      <td>5.000000</td>\n",
       "      <td>31.000000</td>\n",
       "    </tr>\n",
       "  </tbody>\n",
       "</table>\n",
       "</div>"
      ],
      "text/plain": [
       "                  id     minutes  contributor_id    n_steps  n_ingredients  \\\n",
       "count      23.000000   23.000000    2.300000e+01  23.000000      23.000000   \n",
       "mean   238846.217391   62.913043    4.463659e+05  12.260870      11.217391   \n",
       "std    142403.200255   38.257397    5.458591e+05   6.091853       3.789417   \n",
       "min     11636.000000    9.000000    3.288000e+03   5.000000       6.000000   \n",
       "25%    157662.000000   35.000000    8.702850e+04   7.500000       7.500000   \n",
       "50%    226765.000000   48.000000    2.398970e+05  12.000000      11.000000   \n",
       "75%    313188.500000   90.000000    5.575435e+05  15.000000      13.500000   \n",
       "max    490345.000000  170.000000    2.462143e+06  27.000000      21.000000   \n",
       "\n",
       "       avg_rating  n_ratings  \n",
       "count   23.000000  23.000000  \n",
       "mean     4.304743   4.260870  \n",
       "std      0.821696   6.565872  \n",
       "min      2.333333   1.000000  \n",
       "25%      4.000000   1.000000  \n",
       "50%      4.714286   2.000000  \n",
       "75%      5.000000   4.000000  \n",
       "max      5.000000  31.000000  "
      ]
     },
     "execution_count": 26,
     "metadata": {},
     "output_type": "execute_result"
    }
   ],
   "source": [
    "recipe_list.describe()"
   ]
  },
  {
   "cell_type": "code",
   "execution_count": 31,
   "metadata": {},
   "outputs": [],
   "source": [
    "# recipe_list.style.set_properties(subset=['ingredients'], **{'width': '300px'})\n",
    "pd.set_option('max_colwidth', 400)"
   ]
  },
  {
   "cell_type": "code",
   "execution_count": 38,
   "metadata": {},
   "outputs": [
    {
     "name": "stdout",
     "output_type": "stream",
     "text": [
      "butternut squash                      21\n",
      "salt                                  10\n",
      "olive oil                              9\n",
      "vegetable stock                        9\n",
      "garlic cloves                          8\n",
      "                                      ..\n",
      "shallot                                1\n",
      "salt & freshly ground black pepper     1\n",
      "chives                                 1\n",
      "ground pepper                          1\n",
      "pinto beans                            1\n",
      "Name: ingredients, Length: 137, dtype: int64\n"
     ]
    }
   ],
   "source": [
    "common_ingredients = recipe_list['ingredients'].apply(literal_eval).explode().value_counts()\n",
    "print(common_ingredients)"
   ]
  },
  {
   "cell_type": "code",
   "execution_count": 42,
   "metadata": {},
   "outputs": [
    {
     "data": {
      "text/plain": [
       "butternut squash    21\n",
       "salt                10\n",
       "olive oil            9\n",
       "vegetable stock      9\n",
       "garlic cloves        8\n",
       "butter               7\n",
       "onion                7\n",
       "water                7\n",
       "coconut milk         5\n",
       "celery               5\n",
       "carrots              5\n",
       "curry powder         4\n",
       "pepper               4\n",
       "nutmeg               4\n",
       "vegetable broth      4\n",
       "garlic               3\n",
       "ground coriander     3\n",
       "onions               3\n",
       "salt and pepper      3\n",
       "ground cumin         3\n",
       "Name: ingredients, dtype: int64"
      ]
     },
     "execution_count": 42,
     "metadata": {},
     "output_type": "execute_result"
    }
   ],
   "source": [
    "common_ingredients[:20]"
   ]
  },
  {
   "cell_type": "code",
   "execution_count": null,
   "metadata": {},
   "outputs": [],
   "source": []
  }
 ],
 "metadata": {
  "kernelspec": {
   "display_name": "Python 3",
   "language": "python",
   "name": "python3"
  },
  "language_info": {
   "codemirror_mode": {
    "name": "ipython",
    "version": 3
   },
   "file_extension": ".py",
   "mimetype": "text/x-python",
   "name": "python",
   "nbconvert_exporter": "python",
   "pygments_lexer": "ipython3",
   "version": "3.8.3"
  }
 },
 "nbformat": 4,
 "nbformat_minor": 4
}
