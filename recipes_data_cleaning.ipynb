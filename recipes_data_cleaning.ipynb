{
 "cells": [
  {
   "cell_type": "code",
   "execution_count": 48,
   "metadata": {},
   "outputs": [],
   "source": [
    "import numpy as np\n",
    "import pandas as pd\n",
    "import matplotlib.pyplot as plt\n",
    "import seaborn as sns\n",
    "from ast import literal_eval\n",
    "import statistics\n",
    "import nltk\n",
    "import re\n",
    "from scipy import stats"
   ]
  },
  {
   "cell_type": "code",
   "execution_count": 2,
   "metadata": {},
   "outputs": [],
   "source": [
    "from nltk.stem.snowball import SnowballStemmer\n",
    "from nltk.stem.regexp import RegexpStemmer\n",
    "#nltk.download('punkt')\n",
    "#nltk.download('averaged_perceptron_tagger')"
   ]
  },
  {
   "cell_type": "code",
   "execution_count": 3,
   "metadata": {},
   "outputs": [],
   "source": [
    "pd.set_option('max_colwidth', 400)"
   ]
  },
  {
   "cell_type": "code",
   "execution_count": 4,
   "metadata": {},
   "outputs": [],
   "source": [
    "def and_split(ingredient_list):\n",
    "    \"\"\"\n",
    "    Inputs: List of ingredients (with possible \"and\" or \"&\")\n",
    "    Output: List with ingredient list updated to remove \"and\" or \"&\" and list as separate items\n",
    "    \n",
    "    example: and_split(['turkey','green pepper','salt & freshly ground black pepper'])\n",
    "            ['turkey', 'green pepper', 'salt', 'freshly ground black pepper']\n",
    "    \"\"\"\n",
    "    return list(np.concatenate([re.split(' and | & ', ingredient) \\\n",
    "                                for ingredient in ingredient_list]).flat)"
   ]
  },
  {
   "cell_type": "code",
   "execution_count": 5,
   "metadata": {},
   "outputs": [],
   "source": [
    "def make_singular(ingredient_list):\n",
    "    \"\"\"\n",
    "    Inputs: List of ingredients \n",
    "    Output: List with ingredient list updated to make everything singular\n",
    "    \n",
    "    example:make_singular([\"carrots\", \"eggs\",\"milk\"])\n",
    "            returns ['carrot', 'egg', 'milk']\n",
    "    \"\"\"\n",
    "    #edge case for couscous needs to be checked\n",
    "    #stemmer = SnowballStemmer(\"english\")\n",
    "    stemmer = RegexpStemmer('s$|ies$') \n",
    "    return [stemmer.stem(word) for word in ingredient_list]"
   ]
  },
  {
   "cell_type": "code",
   "execution_count": 105,
   "metadata": {},
   "outputs": [],
   "source": [
    "def remove_adj(ingredient_list):\n",
    "    \"\"\"\n",
    "    Inputs: List of ingredients \n",
    "    Output: List with ingredient list updated to remove extra adjectives:\n",
    "            ['fresh', 'ground', 'dried', 'all-purpose']\n",
    "    example:remove_adj(['fresh ground pepper', 'fresh parsley', 'dried parsley','all-purpose flour'])\n",
    "            returns ['pepper', 'parsley', 'parsley', 'flour']    \n",
    "    \"\"\"\n",
    "    \n",
    "    adj_list =  \"|\".join(['fresh','chopped','canned','baby' 'raw','frozen','whole',\\\n",
    "                          'ground','granulated', 'dried', 'all-purpose','granulated',\\\n",
    "                          'unsalted','salted', 'extra virgin', 'ripe'])\n",
    "    return [re.sub(adj_list,'', ingredient).strip() for ingredient in ingredient_list]    "
   ]
  },
  {
   "cell_type": "code",
   "execution_count": 110,
   "metadata": {},
   "outputs": [],
   "source": [
    "def check_subsitutions(sub_list, ingredient):\n",
    "    new_ingredient = ingredient\n",
    "    for word in sub_list:\n",
    "        check = re.search(word, ingredient, re.IGNORECASE)\n",
    "        new_ingredient = check.group(1) if check else new_ingredient\n",
    "    return new_ingredient\n",
    "\n",
    "def substitutions(ingredient_list):\n",
    "    \"\"\"\n",
    "    Inputs: List of ingredients \n",
    "    Output: List with ingredient with common subsitituions \n",
    "    example: substitutions(['garlic cloves', 'herb and salt spice mix',  'low fat firm tofu', 'whole milk' ])\n",
    "            returns ['garlic', 'spice', 'tofu', 'milk']    \n",
    "    \"\"\"\n",
    "    sub_list = ['(garlic)', '(flour)','(yogurt)','(spice)', '(oil)','(tofu)', '(milk)', '(vinegar)',\\\n",
    "                '(butter)', '(rice)', '(cheese)', '(juice)', '(syrup)', '(soup)','(tortilla)', '(yam)']\n",
    "    return [check_subsitutions(sub_list, ingredient) for ingredient in ingredient_list]\n",
    "    #return [ingredient.extract(pat = r'(\"garlic\")') for ingredient in ingredient_list]"
   ]
  },
  {
   "cell_type": "code",
   "execution_count": 8,
   "metadata": {},
   "outputs": [],
   "source": [
    "recipes = pd.read_csv('data/large_data/RAW_recipes.csv')"
   ]
  },
  {
   "cell_type": "code",
   "execution_count": 9,
   "metadata": {},
   "outputs": [],
   "source": [
    "recipes['tags'] = recipes['tags'].apply(literal_eval)"
   ]
  },
  {
   "cell_type": "code",
   "execution_count": 10,
   "metadata": {},
   "outputs": [],
   "source": [
    "tag_dist = recipes['tags'].explode().value_counts()\n",
    "tag_list = recipes['tags'].explode().unique()"
   ]
  },
  {
   "cell_type": "code",
   "execution_count": 111,
   "metadata": {},
   "outputs": [],
   "source": [
    "recipes['mod_ingredients'] = recipes['ingredients'].apply(literal_eval).apply(and_split).apply(make_singular).apply(substitutions).apply(remove_adj)"
   ]
  },
  {
   "cell_type": "code",
   "execution_count": 112,
   "metadata": {},
   "outputs": [],
   "source": [
    "full_ingredient_list = recipes['mod_ingredients'].explode()\n",
    "ingredient_freq = full_ingredient_list.value_counts()"
   ]
  },
  {
   "cell_type": "code",
   "execution_count": 40,
   "metadata": {},
   "outputs": [],
   "source": [
    "ingredient_freq = ingredient_freq.loc[ingredient_freq > 100]"
   ]
  },
  {
   "cell_type": "code",
   "execution_count": 41,
   "metadata": {},
   "outputs": [],
   "source": [
    "ingredient_freq  = ingredient_freq/sum(ingredient_freq)"
   ]
  },
  {
   "cell_type": "code",
   "execution_count": 115,
   "metadata": {},
   "outputs": [
    {
     "data": {
      "text/plain": [
       "salt               107808\n",
       "oil                 86014\n",
       "butter              78229\n",
       "cheese              76161\n",
       "garlic              72043\n",
       "flour               58220\n",
       "egg                 51065\n",
       "sugar               50789\n",
       "onion               49394\n",
       "juice               45049\n",
       "pepper              44754\n",
       "milk                43424\n",
       "water               34927\n",
       "black pepper        25270\n",
       "vinegar             19744\n",
       "cinnamon            19424\n",
       "brown sugar         18660\n",
       "baking powder       17504\n",
       "parsley             15930\n",
       "rice                15372\n",
       "tomatoe             14467\n",
       "baking soda         14099\n",
       "carrot              14025\n",
       "vanilla             13315\n",
       "sour cream          11796\n",
       "ginger              11569\n",
       "green onion         11421\n",
       "cumin               10402\n",
       "vanilla extract     10271\n",
       "oregano             10200\n",
       "honey                9898\n",
       "soup                 9815\n",
       "Name: mod_ingredients, dtype: int64"
      ]
     },
     "execution_count": 115,
     "metadata": {},
     "output_type": "execute_result"
    }
   ],
   "source": [
    "ingredient_freq.loc[np.abs(stats.zscore(ingredient_freq)) > 4]\n",
    "#ingredient_freq.quantile(.50)"
   ]
  },
  {
   "cell_type": "code",
   "execution_count": 103,
   "metadata": {},
   "outputs": [
    {
     "data": {
      "text/plain": [
       "1384"
      ]
     },
     "execution_count": 103,
     "metadata": {},
     "output_type": "execute_result"
    }
   ],
   "source": [
    "ingredient_freq.loc['peanut']"
   ]
  },
  {
   "cell_type": "code",
   "execution_count": 116,
   "metadata": {},
   "outputs": [
    {
     "data": {
      "text/plain": [
       "tomatoe                         14467\n",
       "tomato sauce                     4480\n",
       "tomato paste                     4335\n",
       "diced tomatoe                    3462\n",
       "cherry tomatoe                   1651\n",
       "                                ...  \n",
       "reduced-calorie tomato sauce        1\n",
       "diced tomato spaghetti sauce        1\n",
       "sugar-free tomato puree             1\n",
       "ro*tel original tomato              1\n",
       "hunt's diced tomatoe                1\n",
       "Name: mod_ingredients, Length: 214, dtype: int64"
      ]
     },
     "execution_count": 116,
     "metadata": {},
     "output_type": "execute_result"
    }
   ],
   "source": [
    "ingredient_freq.filter(like=\"tomato\", axis = 0)"
   ]
  },
  {
   "cell_type": "code",
   "execution_count": 28,
   "metadata": {},
   "outputs": [
    {
     "data": {
      "text/plain": [
       "alpine lace 97% reduced-fat cooked ham       4.710083e-07\n",
       "shimeji mushroom                             4.710083e-07\n",
       "salt-free seasoned  breadcrumb               4.710083e-07\n",
       "pickled mackerel                             4.710083e-07\n",
       "pineapple orange drink mix                   4.710083e-07\n",
       "                                                 ...     \n",
       "spearmint candy leaf                         4.710083e-07\n",
       "fat-free blueberry muffin mix                4.710083e-07\n",
       "gelato                                       4.710083e-07\n",
       "moong dahl                                   4.710083e-07\n",
       "brown sugar flavored hot wheat cereal mix    4.710083e-07\n",
       "Name: mod_ingredients, Length: 100, dtype: float64"
      ]
     },
     "execution_count": 28,
     "metadata": {},
     "output_type": "execute_result"
    }
   ],
   "source": [
    "full_ingredient_list[-100:]"
   ]
  },
  {
   "cell_type": "code",
   "execution_count": null,
   "metadata": {},
   "outputs": [],
   "source": [
    "recipes[\"veg\"] = [(\"vegan\" in tag_list) or (\"vegetarian\" in tag_list) for tag_list in recipes[\"tags\"]]"
   ]
  },
  {
   "cell_type": "code",
   "execution_count": null,
   "metadata": {},
   "outputs": [],
   "source": [
    "veg_recipes = recipes[recipes[\"veg\"]].copy()"
   ]
  },
  {
   "cell_type": "code",
   "execution_count": null,
   "metadata": {},
   "outputs": [],
   "source": [
    "interactions = pd.read_csv('data/large_data/RAW_interactions.csv')"
   ]
  },
  {
   "cell_type": "code",
   "execution_count": null,
   "metadata": {},
   "outputs": [],
   "source": [
    "veg_recipes['ratings'] = [list(interactions[interactions['recipe_id'] == rec_id]['rating'])  for rec_id in veg_recipes['id'] ]"
   ]
  },
  {
   "cell_type": "code",
   "execution_count": null,
   "metadata": {},
   "outputs": [],
   "source": [
    "veg_recipes['avg_rating'] = veg_recipes['ratings'].map(statistics.mean)"
   ]
  },
  {
   "cell_type": "code",
   "execution_count": null,
   "metadata": {},
   "outputs": [],
   "source": [
    "veg_recipes['n_ratings'] = veg_recipes['ratings'].map(len)"
   ]
  },
  {
   "cell_type": "code",
   "execution_count": null,
   "metadata": {},
   "outputs": [],
   "source": [
    "veg_recipes[veg_recipes['n_ratings'] > 10].describe()"
   ]
  },
  {
   "cell_type": "code",
   "execution_count": null,
   "metadata": {},
   "outputs": [],
   "source": [
    "veg_recipes['mod_ingredients'] = veg_recipes['ingredients'].apply(literal_eval).apply(and_split)"
   ]
  },
  {
   "cell_type": "code",
   "execution_count": null,
   "metadata": {},
   "outputs": [],
   "source": [
    "veg_recipes[['mod_ingredients']]\n",
    "#veg_recipes[['ingredients']]"
   ]
  },
  {
   "cell_type": "code",
   "execution_count": null,
   "metadata": {},
   "outputs": [],
   "source": [
    "#search_phrase = input()"
   ]
  },
  {
   "cell_type": "code",
   "execution_count": null,
   "metadata": {},
   "outputs": [],
   "source": [
    "search_phrase = \"butternut squash soup\"\n",
    "search_words = search_phrase.split(\" \")\n",
    "search_words = \"|\".join(\"^{}$\".format(word) for word in search_words)"
   ]
  },
  {
   "cell_type": "code",
   "execution_count": null,
   "metadata": {},
   "outputs": [],
   "source": [
    "recipe_list = veg_recipes.loc[veg_recipes['name'].str.contains(search_phrase, case=False)]"
   ]
  },
  {
   "cell_type": "code",
   "execution_count": null,
   "metadata": {},
   "outputs": [],
   "source": [
    "recipe_list.describe()"
   ]
  },
  {
   "cell_type": "code",
   "execution_count": null,
   "metadata": {},
   "outputs": [],
   "source": [
    "common_ingredients = recipe_list['mod_ingredients'].explode().value_counts()"
   ]
  },
  {
   "cell_type": "code",
   "execution_count": null,
   "metadata": {},
   "outputs": [],
   "source": [
    "common_ingredients[:20]"
   ]
  },
  {
   "cell_type": "code",
   "execution_count": null,
   "metadata": {},
   "outputs": [],
   "source": [
    "common_ingredients.filter(like = \"pepper\", axis = 0)"
   ]
  },
  {
   "cell_type": "code",
   "execution_count": null,
   "metadata": {},
   "outputs": [],
   "source": [
    "veg_recipes['ingredients']"
   ]
  }
 ],
 "metadata": {
  "kernelspec": {
   "display_name": "Python 3",
   "language": "python",
   "name": "python3"
  },
  "language_info": {
   "codemirror_mode": {
    "name": "ipython",
    "version": 3
   },
   "file_extension": ".py",
   "mimetype": "text/x-python",
   "name": "python",
   "nbconvert_exporter": "python",
   "pygments_lexer": "ipython3",
   "version": "3.8.3"
  }
 },
 "nbformat": 4,
 "nbformat_minor": 4
}
