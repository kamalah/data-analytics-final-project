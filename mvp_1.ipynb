{
 "cells": [
  {
   "cell_type": "code",
   "execution_count": 1,
   "metadata": {},
   "outputs": [],
   "source": [
    "import numpy as np\n",
    "import pandas as pd\n",
    "import matplotlib.pyplot as plt\n",
    "import seaborn as sns\n",
    "from ast import literal_eval\n",
    "import statistics\n",
    "import nltk\n",
    "import re\n",
    "from scipy import stats\n",
    "from venn import venn\n",
    "import matplotlib\n",
    "import squarify    \n",
    "%matplotlib inline"
   ]
  },
  {
   "cell_type": "code",
   "execution_count": 29,
   "metadata": {},
   "outputs": [],
   "source": [
    "def calc_ingredient_ratings(ingredient_list, ingredient_freq= ingredient_freq):\n",
    "    #print(ingredient_list) \n",
    "    rating = 0\n",
    "    for ingredient in ingredient_list:\n",
    "        try:\n",
    "            freq = ingredient_freq.loc[ingredient]\n",
    "        except:\n",
    "            freq = 0\n",
    "        rating += freq\n",
    "    return rating"
   ]
  },
  {
   "cell_type": "code",
   "execution_count": 78,
   "metadata": {},
   "outputs": [],
   "source": [
    "def get_recipes(search_phrase, recipes):\n",
    "    recipe_list = recipes.loc[recipes['name'].str.contains(search_phrase, case=False)].copy()\n",
    "    recipe_list['ingredient_score'] = recipe_list['mod_ingredients'].apply(calc_ingredient_ratings)\n",
    "    recipe_list['overall_score'] = stats.zscore(recipe_list['minutes']) + recipe_list['avg_rating']*recipe_list['n_ratings'] + recipe_list['ingredient_score']*100 + stats.zscore(recipe_list['n_steps']) + stats.zscore(recipe_list['n_ingredients'])\n",
    "    return recipe_list"
   ]
  },
  {
   "cell_type": "code",
   "execution_count": 48,
   "metadata": {},
   "outputs": [],
   "source": [
    "def show_top_recipes(recipe_list):\n",
    "    html = 'https://www.food.com/recipe/'\n",
    "    common_ingredients = recipe_list['mod_ingredients'].apply(literal_eval).explode().value_counts()\n",
    "    cmap = matplotlib.cm.Blues\n",
    "    norm = matplotlib.colors.Normalize(vmin=min(common_ingredients), vmax=max(common_ingredients))\n",
    "    colors = [cmap(norm(value)) for value in common_ingredients]\n",
    "    squarify.plot(sizes=common_ingredients[:10], label=common_ingredients.index[:10], alpha=.5, text_kwargs={\"wrap\": True})\n",
    "    plt.axis('off')\n",
    "    plt.show()\n",
    "    top_5 = recipe_list.nlargest(5, 'overall_score').copy()\n",
    "    top_5['recipe_link'] = [f'https://www.food.com/recipe/{ing_id}' for ing_id in top_5['id']]\n",
    "    return top_5[['name','id','overall_score','recipe_link']]"
   ]
  },
  {
   "cell_type": "code",
   "execution_count": null,
   "metadata": {},
   "outputs": [],
   "source": [
    "recipes = pd.read_csv('data/large_data/recipes.csv')\n",
    "ingredient_freq = pd.read_csv('data/ingredient_freq.csv')"
   ]
  },
  {
   "cell_type": "code",
   "execution_count": 80,
   "metadata": {},
   "outputs": [],
   "source": [
    "def main():\n",
    "    search_phrase = input('Please enter your recipe: ')\n",
    "    #search_words = search_phrase.split(\" \")\n",
    "    #search_words = \"|\".join(\"^{}$\".format(word) for word in search_words)\n",
    "    recipe_list = get_recipes(search_phrase, recipes)\n",
    "    return show_top_recipes(recipe_list)"
   ]
  },
  {
   "cell_type": "code",
   "execution_count": 79,
   "metadata": {},
   "outputs": [
    {
     "name": "stdout",
     "output_type": "stream",
     "text": [
      "Please enter your recipe: brownies\n"
     ]
    },
    {
     "data": {
      "image/png": "[encoded data removed]",
      "text/plain": [
       "<Figure size 432x288 with 1 Axes>"
      ]
     },
     "metadata": {
      "needs_background": "light"
     },
     "output_type": "display_data"
    },
    {
     "data": {
      "text/html": [
       "<div>\n",
       "<style scoped>\n",
       "    .dataframe tbody tr th:only-of-type {\n",
       "        vertical-align: middle;\n",
       "    }\n",
       "\n",
       "    .dataframe tbody tr th {\n",
       "        vertical-align: top;\n",
       "    }\n",
       "\n",
       "    .dataframe thead th {\n",
       "        text-align: right;\n",
       "    }\n",
       "</style>\n",
       "<table border=\"1\" class=\"dataframe\">\n",
       "  <thead>\n",
       "    <tr style=\"text-align: right;\">\n",
       "      <th></th>\n",
       "      <th>name</th>\n",
       "      <th>id</th>\n",
       "      <th>overall_score</th>\n",
       "      <th>recipe_link</th>\n",
       "    </tr>\n",
       "  </thead>\n",
       "  <tbody>\n",
       "    <tr>\n",
       "      <th>566</th>\n",
       "      <td>whatever floats your boat  brownies</td>\n",
       "      <td>32204</td>\n",
       "      <td>5522.925065</td>\n",
       "      <td>https://www.food.com/recipe/32204</td>\n",
       "    </tr>\n",
       "    <tr>\n",
       "      <th>154748</th>\n",
       "      <td>perfect chocolate brownies</td>\n",
       "      <td>15072</td>\n",
       "      <td>1418.507021</td>\n",
       "      <td>https://www.food.com/recipe/15072</td>\n",
       "    </tr>\n",
       "    <tr>\n",
       "      <th>115389</th>\n",
       "      <td>kittencal s extreme chocolate brownies</td>\n",
       "      <td>87925</td>\n",
       "      <td>1119.968363</td>\n",
       "      <td>https://www.food.com/recipe/87925</td>\n",
       "    </tr>\n",
       "    <tr>\n",
       "      <th>199861</th>\n",
       "      <td>super peanut butter filled brownies</td>\n",
       "      <td>87864</td>\n",
       "      <td>689.682194</td>\n",
       "      <td>https://www.food.com/recipe/87864</td>\n",
       "    </tr>\n",
       "    <tr>\n",
       "      <th>109057</th>\n",
       "      <td>intensely chocolate cocoa brownies</td>\n",
       "      <td>118242</td>\n",
       "      <td>548.983287</td>\n",
       "      <td>https://www.food.com/recipe/118242</td>\n",
       "    </tr>\n",
       "  </tbody>\n",
       "</table>\n",
       "</div>"
      ],
      "text/plain": [
       "                                          name      id  overall_score  \\\n",
       "566        whatever floats your boat  brownies   32204    5522.925065   \n",
       "154748              perfect chocolate brownies   15072    1418.507021   \n",
       "115389  kittencal s extreme chocolate brownies   87925    1119.968363   \n",
       "199861     super peanut butter filled brownies   87864     689.682194   \n",
       "109057      intensely chocolate cocoa brownies  118242     548.983287   \n",
       "\n",
       "                               recipe_link  \n",
       "566      https://www.food.com/recipe/32204  \n",
       "154748   https://www.food.com/recipe/15072  \n",
       "115389   https://www.food.com/recipe/87925  \n",
       "199861   https://www.food.com/recipe/87864  \n",
       "109057  https://www.food.com/recipe/118242  "
      ]
     },
     "execution_count": 79,
     "metadata": {},
     "output_type": "execute_result"
    }
   ],
   "source": [
    "main()"
   ]
  }
 ],
 "metadata": {
  "kernelspec": {
   "display_name": "Python 3",
   "language": "python",
   "name": "python3"
  },
  "language_info": {
   "codemirror_mode": {
    "name": "ipython",
    "version": 3
   },
   "file_extension": ".py",
   "mimetype": "text/x-python",
   "name": "python",
   "nbconvert_exporter": "python",
   "pygments_lexer": "ipython3",
   "version": "3.8.3"
  }
 },
 "nbformat": 4,
 "nbformat_minor": 4
}
