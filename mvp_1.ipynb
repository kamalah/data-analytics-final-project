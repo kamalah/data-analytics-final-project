{
 "cells": [
  {
   "cell_type": "code",
   "execution_count": 1,
   "metadata": {},
   "outputs": [],
   "source": [
    "import numpy as np\n",
    "import pandas as pd\n",
    "import matplotlib.pyplot as plt\n",
    "import seaborn as sns\n",
    "from ast import literal_eval\n",
    "import statistics\n",
    "import nltk\n",
    "import re\n",
    "from scipy import stats\n",
    "from venn import venn\n",
    "import matplotlib\n",
    "import squarify    \n",
    "%matplotlib inline"
   ]
  },
  {
   "cell_type": "code",
   "execution_count": 3,
   "metadata": {},
   "outputs": [],
   "source": [
    "recipes = pd.read_csv('data/large_data/recipes.csv')"
   ]
  },
  {
   "cell_type": "code",
   "execution_count": 25,
   "metadata": {},
   "outputs": [],
   "source": []
  },
  {
   "cell_type": "code",
   "execution_count": 39,
   "metadata": {},
   "outputs": [],
   "source": [
    "full_ingredient_list = recipes['mod_ingredients'].apply(literal_eval).explode()\n",
    "ingredient_freq = full_ingredient_list.value_counts()"
   ]
  },
  {
   "cell_type": "code",
   "execution_count": 6,
   "metadata": {},
   "outputs": [
    {
     "name": "stdout",
     "output_type": "stream",
     "text": [
      "chicken soup\n"
     ]
    }
   ],
   "source": [
    "search_phrase = input()"
   ]
  },
  {
   "cell_type": "code",
   "execution_count": 7,
   "metadata": {},
   "outputs": [],
   "source": [
    "search_words = search_phrase.split(\" \")\n",
    "search_words = \"|\".join(\"^{}$\".format(word) for word in search_words)"
   ]
  },
  {
   "cell_type": "code",
   "execution_count": 26,
   "metadata": {},
   "outputs": [],
   "source": [
    "recipe_list = recipes.loc[recipes['name'].str.contains(search_phrase, case=False)].copy()"
   ]
  },
  {
   "cell_type": "code",
   "execution_count": 29,
   "metadata": {},
   "outputs": [],
   "source": [
    "def calc_ingredient_ratings(ingredient_list, ingredient_freq= ingredient_freq):\n",
    "    #print(ingredient_list) \n",
    "    rating = 0\n",
    "    for ingredient in ingredient_list:\n",
    "        try:\n",
    "            freq = ingredient_freq.loc[ingredient]\n",
    "        except:\n",
    "            freq = 0\n",
    "        rating += freq\n",
    "    return rating"
   ]
  },
  {
   "cell_type": "code",
   "execution_count": 31,
   "metadata": {},
   "outputs": [],
   "source": [
    "recipe_list['ingredient_score'] = recipe_list['mod_ingredients'].apply(calc_ingredient_ratings)"
   ]
  },
  {
   "cell_type": "code",
   "execution_count": 47,
   "metadata": {},
   "outputs": [],
   "source": [
    "recipe_list['overall_score'] = stats.zscore(recipe_list['minutes']) + recipe_list['avg_rating'] + recipe_list['ingredient_score']*100 + stats.zscore(recipe_list['n_steps']) + stats.zscore(recipe_list['n_ingredients'])"
   ]
  },
  {
   "cell_type": "code",
   "execution_count": 48,
   "metadata": {},
   "outputs": [],
   "source": [
    "def show_top_recipes(recipe_list):\n",
    "    html = 'https://www.food.com/recipe/'\n",
    "    common_ingredients = recipe_list['mod_ingredients'].apply(literal_eval).explode().value_counts()\n",
    "    cmap = matplotlib.cm.Blues\n",
    "    norm = matplotlib.colors.Normalize(vmin=min(common_ingredients), vmax=max(common_ingredients))\n",
    "    colors = [cmap(norm(value)) for value in common_ingredients]\n",
    "    squarify.plot(sizes=common_ingredients[:10], label=common_ingredients.index[:10], alpha=.5, text_kwargs={\"wrap\": True})\n",
    "    plt.axis('off')\n",
    "    plt.show()\n",
    "    top_5 = recipe_list.nlargest(5, 'overall_score').copy()\n",
    "    top_5['recipe_link'] = [f'https://www.food.com/recipe/{ing_id}' for ing_id in top_5['id']]\n",
    "    return top_5[['name','id','overall_score','recipe_link']]"
   ]
  },
  {
   "cell_type": "code",
   "execution_count": 49,
   "metadata": {},
   "outputs": [
    {
     "data": {
      "image/png": "[encoded data removed]",
      "text/plain": [
       "<Figure size 432x288 with 1 Axes>"
      ]
     },
     "metadata": {
      "needs_background": "light"
     },
     "output_type": "display_data"
    },
    {
     "data": {
      "text/html": [
       "<div>\n",
       "<style scoped>\n",
       "    .dataframe tbody tr th:only-of-type {\n",
       "        vertical-align: middle;\n",
       "    }\n",
       "\n",
       "    .dataframe tbody tr th {\n",
       "        vertical-align: top;\n",
       "    }\n",
       "\n",
       "    .dataframe thead th {\n",
       "        text-align: right;\n",
       "    }\n",
       "</style>\n",
       "<table border=\"1\" class=\"dataframe\">\n",
       "  <thead>\n",
       "    <tr style=\"text-align: right;\">\n",
       "      <th></th>\n",
       "      <th>name</th>\n",
       "      <th>id</th>\n",
       "      <th>overall_score</th>\n",
       "      <th>recipe_link</th>\n",
       "    </tr>\n",
       "  </thead>\n",
       "  <tbody>\n",
       "    <tr>\n",
       "      <th>136918</th>\n",
       "      <td>mix   match chicken soup</td>\n",
       "      <td>531169</td>\n",
       "      <td>12.944843</td>\n",
       "      <td>https://www.food.com/recipe/531169</td>\n",
       "    </tr>\n",
       "    <tr>\n",
       "      <th>64282</th>\n",
       "      <td>creole chicken soup</td>\n",
       "      <td>162876</td>\n",
       "      <td>10.568690</td>\n",
       "      <td>https://www.food.com/recipe/162876</td>\n",
       "    </tr>\n",
       "    <tr>\n",
       "      <th>45735</th>\n",
       "      <td>chicken soup for the crock pot</td>\n",
       "      <td>50914</td>\n",
       "      <td>10.211765</td>\n",
       "      <td>https://www.food.com/recipe/50914</td>\n",
       "    </tr>\n",
       "    <tr>\n",
       "      <th>141592</th>\n",
       "      <td>my doctor s mama s chicken soup</td>\n",
       "      <td>256307</td>\n",
       "      <td>10.129247</td>\n",
       "      <td>https://www.food.com/recipe/256307</td>\n",
       "    </tr>\n",
       "    <tr>\n",
       "      <th>146634</th>\n",
       "      <td>ohn no kauk swe  burmese chicken soup</td>\n",
       "      <td>283434</td>\n",
       "      <td>9.496343</td>\n",
       "      <td>https://www.food.com/recipe/283434</td>\n",
       "    </tr>\n",
       "  </tbody>\n",
       "</table>\n",
       "</div>"
      ],
      "text/plain": [
       "                                         name      id  overall_score  \\\n",
       "136918               mix   match chicken soup  531169      12.944843   \n",
       "64282                     creole chicken soup  162876      10.568690   \n",
       "45735          chicken soup for the crock pot   50914      10.211765   \n",
       "141592        my doctor s mama s chicken soup  256307      10.129247   \n",
       "146634  ohn no kauk swe  burmese chicken soup  283434       9.496343   \n",
       "\n",
       "                               recipe_link  \n",
       "136918  https://www.food.com/recipe/531169  \n",
       "64282   https://www.food.com/recipe/162876  \n",
       "45735    https://www.food.com/recipe/50914  \n",
       "141592  https://www.food.com/recipe/256307  \n",
       "146634  https://www.food.com/recipe/283434  "
      ]
     },
     "execution_count": 49,
     "metadata": {},
     "output_type": "execute_result"
    }
   ],
   "source": [
    "show_top_recipes(recipe_list)"
   ]
  },
  {
   "cell_type": "code",
   "execution_count": 46,
   "metadata": {},
   "outputs": [
    {
     "data": {
      "text/plain": [
       "name                          cream of chicken soup with wild rice ii\n",
       "id                                                               3601\n",
       "minutes                                                             0\n",
       "contributor_id                                                   1555\n",
       "submitted                                                  1999-09-24\n",
       "tags                ['15-minutes-or-less', 'time-to-make', 'course...\n",
       "nutrition                 [758.8, 70.0, 11.0, 54.0, 86.0, 89.0, 13.0]\n",
       "n_steps                                                            25\n",
       "steps               ['cook wild rice according to pkg', 'direction...\n",
       "description                                                       NaN\n",
       "ingredients         ['wild rice', 'broiler-fryer chickens', 'water...\n",
       "n_ingredients                                                      14\n",
       "mod_ingredients     ['wild rice', 'broiler-fryer chickens', 'water...\n",
       "veg                                                             False\n",
       "ratings                                                           [3]\n",
       "n_ratings                                                           1\n",
       "avg_rating                                                          3\n",
       "ingredient_score                                                    0\n",
       "overall_score                                                     inf\n",
       "Name: 61749, dtype: object"
      ]
     },
     "execution_count": 46,
     "metadata": {},
     "output_type": "execute_result"
    }
   ],
   "source": [
    "recipe_list.loc[61749]"
   ]
  },
  {
   "cell_type": "code",
   "execution_count": null,
   "metadata": {},
   "outputs": [],
   "source": []
  }
 ],
 "metadata": {
  "kernelspec": {
   "display_name": "Python 3",
   "language": "python",
   "name": "python3"
  },
  "language_info": {
   "codemirror_mode": {
    "name": "ipython",
    "version": 3
   },
   "file_extension": ".py",
   "mimetype": "text/x-python",
   "name": "python",
   "nbconvert_exporter": "python",
   "pygments_lexer": "ipython3",
   "version": "3.8.3"
  }
 },
 "nbformat": 4,
 "nbformat_minor": 4
}
